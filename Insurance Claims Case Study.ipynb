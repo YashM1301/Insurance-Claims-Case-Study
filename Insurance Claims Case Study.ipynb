{
 "cells": [
  {
   "cell_type": "markdown",
   "id": "f47f8e32",
   "metadata": {},
   "source": [
    "<h1><center><font color='blue'><h1>DATA EXPLORATORY ANALYSIS AND HYPOTHESIS<h1></font></center></h1>"
   ]
  },
  {
   "cell_type": "markdown",
   "id": "a6dffeb1",
   "metadata": {},
   "source": [
    "<h1><center>TESTING FOR INSURANCE CLAIMS DATA</center></h1> "
   ]
  },
  {
   "cell_type": "markdown",
   "id": "79e6b5af",
   "metadata": {},
   "source": [
    "#### Q1. Import claims_data.csv and cust_data.csv which is provided to you and combine the two datasets appropriately to create a 360-degree view of the data. Use the same for the subsequent questions."
   ]
  },
  {
   "cell_type": "code",
   "execution_count": 1,
   "id": "2bed9122",
   "metadata": {},
   "outputs": [],
   "source": [
    "import pandas as pd\n",
    "import numpy as np\n",
    "import matplotlib.pyplot as plt\n",
    "import datetime as dt\n",
    "import seaborn as sns\n",
    "import re\n",
    "import scipy.stats as stats\n",
    "# set the graphs to show in the jupyter notebook\n",
    "%matplotlib inline\n",
    "\n",
    "# set seabor graphs to a better style\n",
    "sns.set(style=\"ticks\")"
   ]
  },
  {
   "cell_type": "code",
   "execution_count": 3,
   "id": "638feec0",
   "metadata": {},
   "outputs": [
    {
     "data": {
      "text/html": [
       "<div>\n",
       "<style scoped>\n",
       "    .dataframe tbody tr th:only-of-type {\n",
       "        vertical-align: middle;\n",
       "    }\n",
       "\n",
       "    .dataframe tbody tr th {\n",
       "        vertical-align: top;\n",
       "    }\n",
       "\n",
       "    .dataframe thead th {\n",
       "        text-align: right;\n",
       "    }\n",
       "</style>\n",
       "<table border=\"1\" class=\"dataframe\">\n",
       "  <thead>\n",
       "    <tr style=\"text-align: right;\">\n",
       "      <th></th>\n",
       "      <th>claim_id</th>\n",
       "      <th>customer_id</th>\n",
       "      <th>incident_cause</th>\n",
       "      <th>claim_date</th>\n",
       "      <th>claim_area</th>\n",
       "      <th>police_report</th>\n",
       "      <th>claim_type</th>\n",
       "      <th>claim_amount</th>\n",
       "      <th>total_policy_claims</th>\n",
       "      <th>fraudulent</th>\n",
       "    </tr>\n",
       "  </thead>\n",
       "  <tbody>\n",
       "    <tr>\n",
       "      <th>0</th>\n",
       "      <td>54004764</td>\n",
       "      <td>21868593</td>\n",
       "      <td>Driver error</td>\n",
       "      <td>11/27/2017</td>\n",
       "      <td>Auto</td>\n",
       "      <td>No</td>\n",
       "      <td>Material only</td>\n",
       "      <td>$2980</td>\n",
       "      <td>1.0</td>\n",
       "      <td>No</td>\n",
       "    </tr>\n",
       "    <tr>\n",
       "      <th>1</th>\n",
       "      <td>33985796</td>\n",
       "      <td>75740424</td>\n",
       "      <td>Crime</td>\n",
       "      <td>10/03/2018</td>\n",
       "      <td>Home</td>\n",
       "      <td>Unknown</td>\n",
       "      <td>Material only</td>\n",
       "      <td>$2980</td>\n",
       "      <td>3.0</td>\n",
       "      <td>No</td>\n",
       "    </tr>\n",
       "    <tr>\n",
       "      <th>2</th>\n",
       "      <td>53522022</td>\n",
       "      <td>30308357</td>\n",
       "      <td>Other driver error</td>\n",
       "      <td>02/02/2018</td>\n",
       "      <td>Auto</td>\n",
       "      <td>No</td>\n",
       "      <td>Material only</td>\n",
       "      <td>$3369.5</td>\n",
       "      <td>1.0</td>\n",
       "      <td>Yes</td>\n",
       "    </tr>\n",
       "    <tr>\n",
       "      <th>3</th>\n",
       "      <td>13015401</td>\n",
       "      <td>47830476</td>\n",
       "      <td>Natural causes</td>\n",
       "      <td>06/17/2018</td>\n",
       "      <td>Auto</td>\n",
       "      <td>No</td>\n",
       "      <td>Material only</td>\n",
       "      <td>$1680</td>\n",
       "      <td>1.0</td>\n",
       "      <td>No</td>\n",
       "    </tr>\n",
       "    <tr>\n",
       "      <th>4</th>\n",
       "      <td>22890252</td>\n",
       "      <td>19269962</td>\n",
       "      <td>Crime</td>\n",
       "      <td>01/13/2018</td>\n",
       "      <td>Auto</td>\n",
       "      <td>No</td>\n",
       "      <td>Material only</td>\n",
       "      <td>$2680</td>\n",
       "      <td>1.0</td>\n",
       "      <td>No</td>\n",
       "    </tr>\n",
       "    <tr>\n",
       "      <th>...</th>\n",
       "      <td>...</td>\n",
       "      <td>...</td>\n",
       "      <td>...</td>\n",
       "      <td>...</td>\n",
       "      <td>...</td>\n",
       "      <td>...</td>\n",
       "      <td>...</td>\n",
       "      <td>...</td>\n",
       "      <td>...</td>\n",
       "      <td>...</td>\n",
       "    </tr>\n",
       "    <tr>\n",
       "      <th>1095</th>\n",
       "      <td>97727122</td>\n",
       "      <td>35951012</td>\n",
       "      <td>Other driver error</td>\n",
       "      <td>06/11/2017</td>\n",
       "      <td>Auto</td>\n",
       "      <td>No</td>\n",
       "      <td>Material only</td>\n",
       "      <td>$3059</td>\n",
       "      <td>4.0</td>\n",
       "      <td>Yes</td>\n",
       "    </tr>\n",
       "    <tr>\n",
       "      <th>1096</th>\n",
       "      <td>10247193</td>\n",
       "      <td>14818669</td>\n",
       "      <td>Natural causes</td>\n",
       "      <td>03/14/2018</td>\n",
       "      <td>Auto</td>\n",
       "      <td>No</td>\n",
       "      <td>Material only</td>\n",
       "      <td>$1520</td>\n",
       "      <td>2.0</td>\n",
       "      <td>No</td>\n",
       "    </tr>\n",
       "    <tr>\n",
       "      <th>1097</th>\n",
       "      <td>79807493</td>\n",
       "      <td>85322831</td>\n",
       "      <td>Other driver error</td>\n",
       "      <td>02/09/2018</td>\n",
       "      <td>Auto</td>\n",
       "      <td>No</td>\n",
       "      <td>Material and injury</td>\n",
       "      <td>$23575</td>\n",
       "      <td>2.0</td>\n",
       "      <td>Yes</td>\n",
       "    </tr>\n",
       "    <tr>\n",
       "      <th>1098</th>\n",
       "      <td>69299345</td>\n",
       "      <td>73449366</td>\n",
       "      <td>Other causes</td>\n",
       "      <td>03/21/2018</td>\n",
       "      <td>Auto</td>\n",
       "      <td>Unknown</td>\n",
       "      <td>Material and injury</td>\n",
       "      <td>$25120</td>\n",
       "      <td>1.0</td>\n",
       "      <td>No</td>\n",
       "    </tr>\n",
       "    <tr>\n",
       "      <th>1099</th>\n",
       "      <td>58809728</td>\n",
       "      <td>43020876</td>\n",
       "      <td>Other driver error</td>\n",
       "      <td>06/04/2017</td>\n",
       "      <td>Auto</td>\n",
       "      <td>Yes</td>\n",
       "      <td>Material and injury</td>\n",
       "      <td>$36685</td>\n",
       "      <td>3.0</td>\n",
       "      <td>Yes</td>\n",
       "    </tr>\n",
       "  </tbody>\n",
       "</table>\n",
       "<p>1100 rows × 10 columns</p>\n",
       "</div>"
      ],
      "text/plain": [
       "      claim_id  customer_id      incident_cause  claim_date claim_area  \\\n",
       "0     54004764     21868593        Driver error  11/27/2017       Auto   \n",
       "1     33985796     75740424               Crime  10/03/2018       Home   \n",
       "2     53522022     30308357  Other driver error  02/02/2018       Auto   \n",
       "3     13015401     47830476      Natural causes  06/17/2018       Auto   \n",
       "4     22890252     19269962               Crime  01/13/2018       Auto   \n",
       "...        ...          ...                 ...         ...        ...   \n",
       "1095  97727122     35951012  Other driver error  06/11/2017       Auto   \n",
       "1096  10247193     14818669      Natural causes  03/14/2018       Auto   \n",
       "1097  79807493     85322831  Other driver error  02/09/2018       Auto   \n",
       "1098  69299345     73449366        Other causes  03/21/2018       Auto   \n",
       "1099  58809728     43020876  Other driver error  06/04/2017       Auto   \n",
       "\n",
       "     police_report           claim_type claim_amount  total_policy_claims  \\\n",
       "0               No        Material only        $2980                  1.0   \n",
       "1          Unknown        Material only        $2980                  3.0   \n",
       "2               No        Material only      $3369.5                  1.0   \n",
       "3               No        Material only        $1680                  1.0   \n",
       "4               No        Material only        $2680                  1.0   \n",
       "...            ...                  ...          ...                  ...   \n",
       "1095            No        Material only        $3059                  4.0   \n",
       "1096            No        Material only        $1520                  2.0   \n",
       "1097            No  Material and injury       $23575                  2.0   \n",
       "1098       Unknown  Material and injury       $25120                  1.0   \n",
       "1099           Yes  Material and injury       $36685                  3.0   \n",
       "\n",
       "     fraudulent  \n",
       "0            No  \n",
       "1            No  \n",
       "2           Yes  \n",
       "3            No  \n",
       "4            No  \n",
       "...         ...  \n",
       "1095        Yes  \n",
       "1096         No  \n",
       "1097        Yes  \n",
       "1098         No  \n",
       "1099        Yes  \n",
       "\n",
       "[1100 rows x 10 columns]"
      ]
     },
     "execution_count": 3,
     "metadata": {},
     "output_type": "execute_result"
    }
   ],
   "source": [
    "claims=pd.read_csv('claims.csv')\n",
    "claims"
   ]
  },
  {
   "cell_type": "code",
   "execution_count": 4,
   "id": "c754f496",
   "metadata": {},
   "outputs": [
    {
     "data": {
      "text/html": [
       "<div>\n",
       "<style scoped>\n",
       "    .dataframe tbody tr th:only-of-type {\n",
       "        vertical-align: middle;\n",
       "    }\n",
       "\n",
       "    .dataframe tbody tr th {\n",
       "        vertical-align: top;\n",
       "    }\n",
       "\n",
       "    .dataframe thead th {\n",
       "        text-align: right;\n",
       "    }\n",
       "</style>\n",
       "<table border=\"1\" class=\"dataframe\">\n",
       "  <thead>\n",
       "    <tr style=\"text-align: right;\">\n",
       "      <th></th>\n",
       "      <th>CUST_ID</th>\n",
       "      <th>gender</th>\n",
       "      <th>DateOfBirth</th>\n",
       "      <th>State</th>\n",
       "      <th>Contact</th>\n",
       "      <th>Segment</th>\n",
       "    </tr>\n",
       "  </thead>\n",
       "  <tbody>\n",
       "    <tr>\n",
       "      <th>0</th>\n",
       "      <td>21868593</td>\n",
       "      <td>Female</td>\n",
       "      <td>12-Jan-79</td>\n",
       "      <td>VT</td>\n",
       "      <td>789-916-8172</td>\n",
       "      <td>Platinum</td>\n",
       "    </tr>\n",
       "    <tr>\n",
       "      <th>1</th>\n",
       "      <td>75740424</td>\n",
       "      <td>Female</td>\n",
       "      <td>13-Jan-70</td>\n",
       "      <td>ME</td>\n",
       "      <td>265-543-1264</td>\n",
       "      <td>Silver</td>\n",
       "    </tr>\n",
       "    <tr>\n",
       "      <th>2</th>\n",
       "      <td>30308357</td>\n",
       "      <td>Female</td>\n",
       "      <td>11-Mar-84</td>\n",
       "      <td>TN</td>\n",
       "      <td>798-631-4758</td>\n",
       "      <td>Silver</td>\n",
       "    </tr>\n",
       "    <tr>\n",
       "      <th>3</th>\n",
       "      <td>47830476</td>\n",
       "      <td>Female</td>\n",
       "      <td>01-May-86</td>\n",
       "      <td>MA</td>\n",
       "      <td>413-187-7945</td>\n",
       "      <td>Silver</td>\n",
       "    </tr>\n",
       "    <tr>\n",
       "      <th>4</th>\n",
       "      <td>19269962</td>\n",
       "      <td>Male</td>\n",
       "      <td>13-May-77</td>\n",
       "      <td>NV</td>\n",
       "      <td>956-871-8691</td>\n",
       "      <td>Gold</td>\n",
       "    </tr>\n",
       "    <tr>\n",
       "      <th>...</th>\n",
       "      <td>...</td>\n",
       "      <td>...</td>\n",
       "      <td>...</td>\n",
       "      <td>...</td>\n",
       "      <td>...</td>\n",
       "      <td>...</td>\n",
       "    </tr>\n",
       "    <tr>\n",
       "      <th>1080</th>\n",
       "      <td>79539873</td>\n",
       "      <td>Female</td>\n",
       "      <td>15-Mar-81</td>\n",
       "      <td>ND</td>\n",
       "      <td>459-425-4319</td>\n",
       "      <td>Platinum</td>\n",
       "    </tr>\n",
       "    <tr>\n",
       "      <th>1081</th>\n",
       "      <td>42364152</td>\n",
       "      <td>Female</td>\n",
       "      <td>07-Jul-96</td>\n",
       "      <td>ID</td>\n",
       "      <td>529-462-1635</td>\n",
       "      <td>Silver</td>\n",
       "    </tr>\n",
       "    <tr>\n",
       "      <th>1082</th>\n",
       "      <td>19888166</td>\n",
       "      <td>Male</td>\n",
       "      <td>11-Apr-90</td>\n",
       "      <td>WI</td>\n",
       "      <td>712-651-9613</td>\n",
       "      <td>Gold</td>\n",
       "    </tr>\n",
       "    <tr>\n",
       "      <th>1083</th>\n",
       "      <td>11256802</td>\n",
       "      <td>Female</td>\n",
       "      <td>22-Oct-64</td>\n",
       "      <td>LA</td>\n",
       "      <td>469-345-5617</td>\n",
       "      <td>Silver</td>\n",
       "    </tr>\n",
       "    <tr>\n",
       "      <th>1084</th>\n",
       "      <td>61575264</td>\n",
       "      <td>Male</td>\n",
       "      <td>12-Jul-95</td>\n",
       "      <td>WY</td>\n",
       "      <td>182-385-1392</td>\n",
       "      <td>Gold</td>\n",
       "    </tr>\n",
       "  </tbody>\n",
       "</table>\n",
       "<p>1085 rows × 6 columns</p>\n",
       "</div>"
      ],
      "text/plain": [
       "       CUST_ID  gender DateOfBirth State       Contact   Segment\n",
       "0     21868593  Female   12-Jan-79    VT  789-916-8172  Platinum\n",
       "1     75740424  Female   13-Jan-70    ME  265-543-1264    Silver\n",
       "2     30308357  Female   11-Mar-84    TN  798-631-4758    Silver\n",
       "3     47830476  Female   01-May-86    MA  413-187-7945    Silver\n",
       "4     19269962    Male   13-May-77    NV  956-871-8691      Gold\n",
       "...        ...     ...         ...   ...           ...       ...\n",
       "1080  79539873  Female   15-Mar-81    ND  459-425-4319  Platinum\n",
       "1081  42364152  Female   07-Jul-96    ID  529-462-1635    Silver\n",
       "1082  19888166    Male   11-Apr-90    WI  712-651-9613      Gold\n",
       "1083  11256802  Female   22-Oct-64    LA  469-345-5617    Silver\n",
       "1084  61575264    Male   12-Jul-95    WY  182-385-1392      Gold\n",
       "\n",
       "[1085 rows x 6 columns]"
      ]
     },
     "execution_count": 4,
     "metadata": {},
     "output_type": "execute_result"
    }
   ],
   "source": [
    "cust=pd.read_csv('cust_demographics.csv')\n",
    "cust"
   ]
  },
  {
   "cell_type": "code",
   "execution_count": 5,
   "id": "2503e596",
   "metadata": {},
   "outputs": [
    {
     "name": "stdout",
     "output_type": "stream",
     "text": [
      "<class 'pandas.core.frame.DataFrame'>\n",
      "RangeIndex: 1085 entries, 0 to 1084\n",
      "Data columns (total 16 columns):\n",
      " #   Column               Non-Null Count  Dtype  \n",
      "---  ------               --------------  -----  \n",
      " 0   claim_id             1085 non-null   int64  \n",
      " 1   customer_id          1085 non-null   int64  \n",
      " 2   incident_cause       1085 non-null   object \n",
      " 3   claim_date           1085 non-null   object \n",
      " 4   claim_area           1085 non-null   object \n",
      " 5   police_report        1085 non-null   object \n",
      " 6   claim_type           1085 non-null   object \n",
      " 7   claim_amount         1020 non-null   object \n",
      " 8   total_policy_claims  1075 non-null   float64\n",
      " 9   fraudulent           1085 non-null   object \n",
      " 10  CUST_ID              1085 non-null   int64  \n",
      " 11  gender               1085 non-null   object \n",
      " 12  DateOfBirth          1085 non-null   object \n",
      " 13  State                1085 non-null   object \n",
      " 14  Contact              1085 non-null   object \n",
      " 15  Segment              1085 non-null   object \n",
      "dtypes: float64(1), int64(3), object(12)\n",
      "memory usage: 135.8+ KB\n"
     ]
    }
   ],
   "source": [
    "Cust_claims= claims.merge(cust, left_on=['customer_id'], right_on=['CUST_ID'], how='inner')\n",
    "Cust_claims.info()"
   ]
  },
  {
   "cell_type": "markdown",
   "id": "2abf6412",
   "metadata": {},
   "source": [
    "#### Q2. Perform a data audit for the datatypes and find out if there are any mismatch within the current datatypes of the columns and their business significance."
   ]
  },
  {
   "cell_type": "code",
   "execution_count": 6,
   "id": "17425e97",
   "metadata": {},
   "outputs": [
    {
     "data": {
      "text/html": [
       "<div>\n",
       "<style scoped>\n",
       "    .dataframe tbody tr th:only-of-type {\n",
       "        vertical-align: middle;\n",
       "    }\n",
       "\n",
       "    .dataframe tbody tr th {\n",
       "        vertical-align: top;\n",
       "    }\n",
       "\n",
       "    .dataframe thead th {\n",
       "        text-align: right;\n",
       "    }\n",
       "</style>\n",
       "<table border=\"1\" class=\"dataframe\">\n",
       "  <thead>\n",
       "    <tr style=\"text-align: right;\">\n",
       "      <th></th>\n",
       "      <th>claim_id</th>\n",
       "      <th>customer_id</th>\n",
       "      <th>incident_cause</th>\n",
       "      <th>claim_date</th>\n",
       "      <th>claim_area</th>\n",
       "      <th>police_report</th>\n",
       "      <th>claim_type</th>\n",
       "      <th>claim_amount</th>\n",
       "      <th>total_policy_claims</th>\n",
       "      <th>fraudulent</th>\n",
       "      <th>CUST_ID</th>\n",
       "      <th>gender</th>\n",
       "      <th>DateOfBirth</th>\n",
       "      <th>State</th>\n",
       "      <th>Contact</th>\n",
       "      <th>Segment</th>\n",
       "    </tr>\n",
       "  </thead>\n",
       "  <tbody>\n",
       "    <tr>\n",
       "      <th>0</th>\n",
       "      <td>54004764</td>\n",
       "      <td>21868593</td>\n",
       "      <td>Driver error</td>\n",
       "      <td>11/27/2017</td>\n",
       "      <td>Auto</td>\n",
       "      <td>No</td>\n",
       "      <td>Material only</td>\n",
       "      <td>$2980</td>\n",
       "      <td>1.0</td>\n",
       "      <td>No</td>\n",
       "      <td>21868593</td>\n",
       "      <td>Female</td>\n",
       "      <td>12-Jan-79</td>\n",
       "      <td>VT</td>\n",
       "      <td>789-916-8172</td>\n",
       "      <td>Platinum</td>\n",
       "    </tr>\n",
       "    <tr>\n",
       "      <th>1</th>\n",
       "      <td>33985796</td>\n",
       "      <td>75740424</td>\n",
       "      <td>Crime</td>\n",
       "      <td>10/03/2018</td>\n",
       "      <td>Home</td>\n",
       "      <td>Unknown</td>\n",
       "      <td>Material only</td>\n",
       "      <td>$2980</td>\n",
       "      <td>3.0</td>\n",
       "      <td>No</td>\n",
       "      <td>75740424</td>\n",
       "      <td>Female</td>\n",
       "      <td>13-Jan-70</td>\n",
       "      <td>ME</td>\n",
       "      <td>265-543-1264</td>\n",
       "      <td>Silver</td>\n",
       "    </tr>\n",
       "  </tbody>\n",
       "</table>\n",
       "</div>"
      ],
      "text/plain": [
       "   claim_id  customer_id incident_cause  claim_date claim_area police_report  \\\n",
       "0  54004764     21868593   Driver error  11/27/2017       Auto            No   \n",
       "1  33985796     75740424          Crime  10/03/2018       Home       Unknown   \n",
       "\n",
       "      claim_type claim_amount  total_policy_claims fraudulent   CUST_ID  \\\n",
       "0  Material only        $2980                  1.0         No  21868593   \n",
       "1  Material only        $2980                  3.0         No  75740424   \n",
       "\n",
       "   gender DateOfBirth State       Contact   Segment  \n",
       "0  Female   12-Jan-79    VT  789-916-8172  Platinum  \n",
       "1  Female   13-Jan-70    ME  265-543-1264    Silver  "
      ]
     },
     "execution_count": 6,
     "metadata": {},
     "output_type": "execute_result"
    }
   ],
   "source": [
    "Cust_claims.head(2)"
   ]
  },
  {
   "cell_type": "code",
   "execution_count": 7,
   "id": "886c973c",
   "metadata": {},
   "outputs": [],
   "source": [
    "numeric_columns = Cust_claims.select_dtypes(include = ['float64', 'int64'])\n",
    "object_columns = Cust_claims.select_dtypes(include = ['object'])"
   ]
  },
  {
   "cell_type": "code",
   "execution_count": 8,
   "id": "534e965c",
   "metadata": {},
   "outputs": [],
   "source": [
    "def continuous_var_summary( x ):\n",
    "    \n",
    "    # freq and missings\n",
    "    n_total = x.shape[0]\n",
    "    n_miss = x.isna().sum()\n",
    "    perc_miss = n_miss * 100 / n_total\n",
    "    \n",
    "    # outliers - iqr\n",
    "    q1 = x.quantile(0.25)\n",
    "    q3 = x.quantile(0.75)\n",
    "    iqr = q3 - q1\n",
    "    lc_iqr = q1 - 1.5 * iqr\n",
    "    uc_iqr = q3 + 1.5 * iqr\n",
    "    \n",
    "    return pd.Series( [ x.dtype, x.nunique(), n_total, x.count(), n_miss, perc_miss,\n",
    "                       x.sum(), x.mean(), x.std(), x.var(), \n",
    "                       lc_iqr, uc_iqr, \n",
    "                       x.min(), x.quantile(0.01), x.quantile(0.05), x.quantile(0.10), \n",
    "                       x.quantile(0.25), x.quantile(0.5), x.quantile(0.75), \n",
    "                       x.quantile(0.90), x.quantile(0.95), x.quantile(0.99), x.max() ], \n",
    "                     \n",
    "                    index = ['dtype', 'cardinality', 'n_tot', 'n', 'nmiss', 'perc_miss',\n",
    "                             'sum', 'mean', 'std', 'var',\n",
    "                        'lc_iqr', 'uc_iqr',\n",
    "                        'min', 'p1', 'p5', 'p10', 'p25', 'p50', 'p75', 'p90', 'p95', 'p99', 'max']) "
   ]
  },
  {
   "cell_type": "code",
   "execution_count": 9,
   "id": "4773ab35",
   "metadata": {},
   "outputs": [],
   "source": [
    "def categorical_var_summary( x ):\n",
    "    \n",
    "    Mode = x.value_counts().sort_values(ascending = False)[0:1].reset_index()\n",
    "    return pd.Series([x.count(), x.isnull().sum(), Mode.iloc[0, 0], Mode.iloc[0, 1], \n",
    "                          round(Mode.iloc[0, 1] * 100 / x.count(), 2)], \n",
    "                     \n",
    "                  index = ['n', 'nmiss', 'MODE', 'FREQ', 'PERCENT'])"
   ]
  },
  {
   "cell_type": "code",
   "execution_count": 10,
   "id": "826fc110",
   "metadata": {},
   "outputs": [
    {
     "data": {
      "text/html": [
       "<div>\n",
       "<style scoped>\n",
       "    .dataframe tbody tr th:only-of-type {\n",
       "        vertical-align: middle;\n",
       "    }\n",
       "\n",
       "    .dataframe tbody tr th {\n",
       "        vertical-align: top;\n",
       "    }\n",
       "\n",
       "    .dataframe thead th {\n",
       "        text-align: right;\n",
       "    }\n",
       "</style>\n",
       "<table border=\"1\" class=\"dataframe\">\n",
       "  <thead>\n",
       "    <tr style=\"text-align: right;\">\n",
       "      <th></th>\n",
       "      <th>claim_id</th>\n",
       "      <th>customer_id</th>\n",
       "      <th>total_policy_claims</th>\n",
       "      <th>CUST_ID</th>\n",
       "    </tr>\n",
       "  </thead>\n",
       "  <tbody>\n",
       "    <tr>\n",
       "      <th>dtype</th>\n",
       "      <td>int64</td>\n",
       "      <td>int64</td>\n",
       "      <td>float64</td>\n",
       "      <td>int64</td>\n",
       "    </tr>\n",
       "    <tr>\n",
       "      <th>cardinality</th>\n",
       "      <td>1085</td>\n",
       "      <td>1078</td>\n",
       "      <td>8</td>\n",
       "      <td>1078</td>\n",
       "    </tr>\n",
       "    <tr>\n",
       "      <th>n_tot</th>\n",
       "      <td>1085</td>\n",
       "      <td>1085</td>\n",
       "      <td>1085</td>\n",
       "      <td>1085</td>\n",
       "    </tr>\n",
       "    <tr>\n",
       "      <th>n</th>\n",
       "      <td>1085</td>\n",
       "      <td>1085</td>\n",
       "      <td>1075</td>\n",
       "      <td>1085</td>\n",
       "    </tr>\n",
       "    <tr>\n",
       "      <th>nmiss</th>\n",
       "      <td>0</td>\n",
       "      <td>0</td>\n",
       "      <td>10</td>\n",
       "      <td>0</td>\n",
       "    </tr>\n",
       "    <tr>\n",
       "      <th>perc_miss</th>\n",
       "      <td>0.0</td>\n",
       "      <td>0.0</td>\n",
       "      <td>0.921659</td>\n",
       "      <td>0.0</td>\n",
       "    </tr>\n",
       "    <tr>\n",
       "      <th>sum</th>\n",
       "      <td>53073348315</td>\n",
       "      <td>55083176211</td>\n",
       "      <td>1706.0</td>\n",
       "      <td>55083176211</td>\n",
       "    </tr>\n",
       "    <tr>\n",
       "      <th>mean</th>\n",
       "      <td>48915528.400922</td>\n",
       "      <td>50767904.341935</td>\n",
       "      <td>1.586977</td>\n",
       "      <td>50767904.341935</td>\n",
       "    </tr>\n",
       "    <tr>\n",
       "      <th>std</th>\n",
       "      <td>29128181.617819</td>\n",
       "      <td>28496245.372373</td>\n",
       "      <td>1.146859</td>\n",
       "      <td>28496245.372373</td>\n",
       "    </tr>\n",
       "    <tr>\n",
       "      <th>var</th>\n",
       "      <td>848450964360648.625</td>\n",
       "      <td>812036000322492.625</td>\n",
       "      <td>1.315286</td>\n",
       "      <td>812036000322492.625</td>\n",
       "    </tr>\n",
       "    <tr>\n",
       "      <th>lc_iqr</th>\n",
       "      <td>-50950840.5</td>\n",
       "      <td>-48014387.5</td>\n",
       "      <td>-0.5</td>\n",
       "      <td>-48014387.5</td>\n",
       "    </tr>\n",
       "    <tr>\n",
       "      <th>uc_iqr</th>\n",
       "      <td>149040899.5</td>\n",
       "      <td>150558968.5</td>\n",
       "      <td>3.5</td>\n",
       "      <td>150558968.5</td>\n",
       "    </tr>\n",
       "    <tr>\n",
       "      <th>min</th>\n",
       "      <td>26832</td>\n",
       "      <td>154557</td>\n",
       "      <td>1.0</td>\n",
       "      <td>154557</td>\n",
       "    </tr>\n",
       "    <tr>\n",
       "      <th>p1</th>\n",
       "      <td>1327778.84</td>\n",
       "      <td>1160488.28</td>\n",
       "      <td>1.0</td>\n",
       "      <td>1160488.28</td>\n",
       "    </tr>\n",
       "    <tr>\n",
       "      <th>p5</th>\n",
       "      <td>3929507.4</td>\n",
       "      <td>6108729.2</td>\n",
       "      <td>1.0</td>\n",
       "      <td>6108729.2</td>\n",
       "    </tr>\n",
       "    <tr>\n",
       "      <th>p10</th>\n",
       "      <td>7907545.8</td>\n",
       "      <td>11265394.0</td>\n",
       "      <td>1.0</td>\n",
       "      <td>11265394.0</td>\n",
       "    </tr>\n",
       "    <tr>\n",
       "      <th>p25</th>\n",
       "      <td>24046062.0</td>\n",
       "      <td>26450621.0</td>\n",
       "      <td>1.0</td>\n",
       "      <td>26450621.0</td>\n",
       "    </tr>\n",
       "    <tr>\n",
       "      <th>p50</th>\n",
       "      <td>48559754.0</td>\n",
       "      <td>49759488.0</td>\n",
       "      <td>1.0</td>\n",
       "      <td>49759488.0</td>\n",
       "    </tr>\n",
       "    <tr>\n",
       "      <th>p75</th>\n",
       "      <td>74043997.0</td>\n",
       "      <td>76093960.0</td>\n",
       "      <td>2.0</td>\n",
       "      <td>76093960.0</td>\n",
       "    </tr>\n",
       "    <tr>\n",
       "      <th>p90</th>\n",
       "      <td>89445574.8</td>\n",
       "      <td>89510506.2</td>\n",
       "      <td>3.0</td>\n",
       "      <td>89510506.2</td>\n",
       "    </tr>\n",
       "    <tr>\n",
       "      <th>p95</th>\n",
       "      <td>94660566.4</td>\n",
       "      <td>94641249.4</td>\n",
       "      <td>4.0</td>\n",
       "      <td>94641249.4</td>\n",
       "    </tr>\n",
       "    <tr>\n",
       "      <th>p99</th>\n",
       "      <td>98890653.44</td>\n",
       "      <td>98237918.2</td>\n",
       "      <td>6.0</td>\n",
       "      <td>98237918.2</td>\n",
       "    </tr>\n",
       "    <tr>\n",
       "      <th>max</th>\n",
       "      <td>99775483</td>\n",
       "      <td>99961993</td>\n",
       "      <td>8.0</td>\n",
       "      <td>99961993</td>\n",
       "    </tr>\n",
       "  </tbody>\n",
       "</table>\n",
       "</div>"
      ],
      "text/plain": [
       "                        claim_id          customer_id total_policy_claims  \\\n",
       "dtype                      int64                int64             float64   \n",
       "cardinality                 1085                 1078                   8   \n",
       "n_tot                       1085                 1085                1085   \n",
       "n                           1085                 1085                1075   \n",
       "nmiss                          0                    0                  10   \n",
       "perc_miss                    0.0                  0.0            0.921659   \n",
       "sum                  53073348315          55083176211              1706.0   \n",
       "mean             48915528.400922      50767904.341935            1.586977   \n",
       "std              29128181.617819      28496245.372373            1.146859   \n",
       "var          848450964360648.625  812036000322492.625            1.315286   \n",
       "lc_iqr               -50950840.5          -48014387.5                -0.5   \n",
       "uc_iqr               149040899.5          150558968.5                 3.5   \n",
       "min                        26832               154557                 1.0   \n",
       "p1                    1327778.84           1160488.28                 1.0   \n",
       "p5                     3929507.4            6108729.2                 1.0   \n",
       "p10                    7907545.8           11265394.0                 1.0   \n",
       "p25                   24046062.0           26450621.0                 1.0   \n",
       "p50                   48559754.0           49759488.0                 1.0   \n",
       "p75                   74043997.0           76093960.0                 2.0   \n",
       "p90                   89445574.8           89510506.2                 3.0   \n",
       "p95                   94660566.4           94641249.4                 4.0   \n",
       "p99                  98890653.44           98237918.2                 6.0   \n",
       "max                     99775483             99961993                 8.0   \n",
       "\n",
       "                         CUST_ID  \n",
       "dtype                      int64  \n",
       "cardinality                 1078  \n",
       "n_tot                       1085  \n",
       "n                           1085  \n",
       "nmiss                          0  \n",
       "perc_miss                    0.0  \n",
       "sum                  55083176211  \n",
       "mean             50767904.341935  \n",
       "std              28496245.372373  \n",
       "var          812036000322492.625  \n",
       "lc_iqr               -48014387.5  \n",
       "uc_iqr               150558968.5  \n",
       "min                       154557  \n",
       "p1                    1160488.28  \n",
       "p5                     6108729.2  \n",
       "p10                   11265394.0  \n",
       "p25                   26450621.0  \n",
       "p50                   49759488.0  \n",
       "p75                   76093960.0  \n",
       "p90                   89510506.2  \n",
       "p95                   94641249.4  \n",
       "p99                   98237918.2  \n",
       "max                     99961993  "
      ]
     },
     "execution_count": 10,
     "metadata": {},
     "output_type": "execute_result"
    }
   ],
   "source": [
    "numeric_audit=numeric_columns.apply( lambda x: continuous_var_summary(x))\n",
    "numeric_audit"
   ]
  },
  {
   "cell_type": "markdown",
   "id": "dc3954ef",
   "metadata": {},
   "source": [
    "##### There are id variables and total_policy_claims only which can be processed as per the given data, it requires data type conversions to proper format"
   ]
  },
  {
   "cell_type": "code",
   "execution_count": 11,
   "id": "1c43acb0",
   "metadata": {},
   "outputs": [
    {
     "data": {
      "text/html": [
       "<div>\n",
       "<style scoped>\n",
       "    .dataframe tbody tr th:only-of-type {\n",
       "        vertical-align: middle;\n",
       "    }\n",
       "\n",
       "    .dataframe tbody tr th {\n",
       "        vertical-align: top;\n",
       "    }\n",
       "\n",
       "    .dataframe thead th {\n",
       "        text-align: right;\n",
       "    }\n",
       "</style>\n",
       "<table border=\"1\" class=\"dataframe\">\n",
       "  <thead>\n",
       "    <tr style=\"text-align: right;\">\n",
       "      <th></th>\n",
       "      <th>incident_cause</th>\n",
       "      <th>claim_date</th>\n",
       "      <th>claim_area</th>\n",
       "      <th>police_report</th>\n",
       "      <th>claim_type</th>\n",
       "      <th>claim_amount</th>\n",
       "      <th>fraudulent</th>\n",
       "      <th>gender</th>\n",
       "      <th>DateOfBirth</th>\n",
       "      <th>State</th>\n",
       "      <th>Contact</th>\n",
       "      <th>Segment</th>\n",
       "    </tr>\n",
       "  </thead>\n",
       "  <tbody>\n",
       "    <tr>\n",
       "      <th>n</th>\n",
       "      <td>1085</td>\n",
       "      <td>1085</td>\n",
       "      <td>1085</td>\n",
       "      <td>1085</td>\n",
       "      <td>1085</td>\n",
       "      <td>1020</td>\n",
       "      <td>1085</td>\n",
       "      <td>1085</td>\n",
       "      <td>1085</td>\n",
       "      <td>1085</td>\n",
       "      <td>1085</td>\n",
       "      <td>1085</td>\n",
       "    </tr>\n",
       "    <tr>\n",
       "      <th>nmiss</th>\n",
       "      <td>0</td>\n",
       "      <td>0</td>\n",
       "      <td>0</td>\n",
       "      <td>0</td>\n",
       "      <td>0</td>\n",
       "      <td>65</td>\n",
       "      <td>0</td>\n",
       "      <td>0</td>\n",
       "      <td>0</td>\n",
       "      <td>0</td>\n",
       "      <td>0</td>\n",
       "      <td>0</td>\n",
       "    </tr>\n",
       "    <tr>\n",
       "      <th>MODE</th>\n",
       "      <td>Other causes</td>\n",
       "      <td>04/04/2018</td>\n",
       "      <td>Auto</td>\n",
       "      <td>No</td>\n",
       "      <td>Material only</td>\n",
       "      <td>$2320</td>\n",
       "      <td>No</td>\n",
       "      <td>Male</td>\n",
       "      <td>18-Oct-72</td>\n",
       "      <td>NY</td>\n",
       "      <td>743-569-4783</td>\n",
       "      <td>Gold</td>\n",
       "    </tr>\n",
       "    <tr>\n",
       "      <th>FREQ</th>\n",
       "      <td>285</td>\n",
       "      <td>18</td>\n",
       "      <td>970</td>\n",
       "      <td>621</td>\n",
       "      <td>653</td>\n",
       "      <td>7</td>\n",
       "      <td>838</td>\n",
       "      <td>556</td>\n",
       "      <td>2</td>\n",
       "      <td>31</td>\n",
       "      <td>2</td>\n",
       "      <td>375</td>\n",
       "    </tr>\n",
       "    <tr>\n",
       "      <th>PERCENT</th>\n",
       "      <td>26.27</td>\n",
       "      <td>1.66</td>\n",
       "      <td>89.4</td>\n",
       "      <td>57.24</td>\n",
       "      <td>60.18</td>\n",
       "      <td>0.69</td>\n",
       "      <td>77.24</td>\n",
       "      <td>51.24</td>\n",
       "      <td>0.18</td>\n",
       "      <td>2.86</td>\n",
       "      <td>0.18</td>\n",
       "      <td>34.56</td>\n",
       "    </tr>\n",
       "  </tbody>\n",
       "</table>\n",
       "</div>"
      ],
      "text/plain": [
       "        incident_cause  claim_date claim_area police_report     claim_type  \\\n",
       "n                 1085        1085       1085          1085           1085   \n",
       "nmiss                0           0          0             0              0   \n",
       "MODE      Other causes  04/04/2018       Auto            No  Material only   \n",
       "FREQ               285          18        970           621            653   \n",
       "PERCENT          26.27        1.66       89.4         57.24          60.18   \n",
       "\n",
       "        claim_amount fraudulent gender DateOfBirth State       Contact Segment  \n",
       "n               1020       1085   1085        1085  1085          1085    1085  \n",
       "nmiss             65          0      0           0     0             0       0  \n",
       "MODE           $2320         No   Male   18-Oct-72    NY  743-569-4783    Gold  \n",
       "FREQ               7        838    556           2    31             2     375  \n",
       "PERCENT         0.69      77.24  51.24        0.18  2.86          0.18   34.56  "
      ]
     },
     "execution_count": 11,
     "metadata": {},
     "output_type": "execute_result"
    }
   ],
   "source": [
    "categorical_audit= object_columns.apply( lambda x: categorical_var_summary(x))\n",
    "categorical_audit"
   ]
  },
  {
   "cell_type": "markdown",
   "id": "532027a4",
   "metadata": {},
   "source": [
    "### The amount variables, date variables shall be changed to proper formats, contact variable has no business significance for the analysis.\n",
    "\n",
    "#### Data type conversions for variables which are not of proper type\n",
    "\n",
    "claim_date, claim_amount ($, datatype), DateOfBirth)"
   ]
  },
  {
   "cell_type": "code",
   "execution_count": 12,
   "id": "fc6c344c",
   "metadata": {},
   "outputs": [],
   "source": [
    "Cust_claims[\"DateOfBirth\"] = pd.to_datetime(Cust_claims.DateOfBirth, format = \"%d-%b-%y\")\n",
    "Cust_claims.loc[(Cust_claims.DateOfBirth.dt.year > 2020),\"DateOfBirth\"]=Cust_claims[Cust_claims.DateOfBirth.dt.year > 2020][\"DateOfBirth\"].apply(lambda x: x - pd.DateOffset(years=100))\n"
   ]
  },
  {
   "cell_type": "code",
   "execution_count": 13,
   "id": "c5c938c8",
   "metadata": {},
   "outputs": [
    {
     "name": "stdout",
     "output_type": "stream",
     "text": [
      "0   1979-01-12\n",
      "1   1970-01-13\n",
      "2   1984-03-11\n",
      "3   1984-03-11\n",
      "4   1986-05-01\n",
      "Name: DateOfBirth, dtype: datetime64[ns]\n"
     ]
    }
   ],
   "source": [
    "print(Cust_claims[\"DateOfBirth\"].head())"
   ]
  },
  {
   "cell_type": "code",
   "execution_count": 14,
   "id": "7925f01c",
   "metadata": {},
   "outputs": [],
   "source": [
    "Cust_claims[\"claim_date\"] = pd.to_datetime(Cust_claims.claim_date, format = \"%m/%d/%Y\")"
   ]
  },
  {
   "cell_type": "code",
   "execution_count": 15,
   "id": "cadeaff1",
   "metadata": {},
   "outputs": [
    {
     "name": "stdout",
     "output_type": "stream",
     "text": [
      "0   2017-11-27\n",
      "1   2018-10-03\n",
      "2   2018-02-02\n",
      "3   2018-04-04\n",
      "4   2018-06-17\n",
      "Name: claim_date, dtype: datetime64[ns]\n"
     ]
    }
   ],
   "source": [
    "print(Cust_claims[\"claim_date\"].head())"
   ]
  },
  {
   "cell_type": "markdown",
   "id": "0e9c91c4",
   "metadata": {},
   "source": [
    "#### Q3 Convert the column claim_amount to numeric. Use the appropriate modules/attributes to remove the $ sign"
   ]
  },
  {
   "cell_type": "code",
   "execution_count": 16,
   "id": "ca02dd82",
   "metadata": {},
   "outputs": [],
   "source": [
    "Cust_claims[\"claim_amount\"]= Cust_claims['claim_amount'].astype(str)\n",
    "Cust_claims['claim_amount'] = Cust_claims['claim_amount'].str.replace('$','')\n",
    "Cust_claims['claim_amount']= np.where(Cust_claims.claim_amount== \"nan\",\"\",Cust_claims.claim_amount )"
   ]
  },
  {
   "cell_type": "code",
   "execution_count": 17,
   "id": "2c695cf3",
   "metadata": {},
   "outputs": [
    {
     "name": "stdout",
     "output_type": "stream",
     "text": [
      "Data type of 'claim_amount' column after conversion: object\n"
     ]
    }
   ],
   "source": [
    "print(\"Data type of 'claim_amount' column after conversion:\", Cust_claims[\"claim_amount\"].dtype)"
   ]
  },
  {
   "cell_type": "code",
   "execution_count": 18,
   "id": "5653737b",
   "metadata": {},
   "outputs": [
    {
     "data": {
      "text/plain": [
       "dtype('float64')"
      ]
     },
     "execution_count": 18,
     "metadata": {},
     "output_type": "execute_result"
    }
   ],
   "source": [
    "Cust_claims['claim_amount'] = pd.to_numeric(Cust_claims['claim_amount'])\n",
    "np.dtype(Cust_claims.claim_amount)"
   ]
  },
  {
   "cell_type": "markdown",
   "id": "21a55eda",
   "metadata": {},
   "source": [
    "#### Q4. Of all the injury claims, some of them have gone unreported with the police. Create an alert flag (1,0) for all such claims"
   ]
  },
  {
   "cell_type": "code",
   "execution_count": 19,
   "id": "11879fb3",
   "metadata": {},
   "outputs": [
    {
     "data": {
      "text/html": [
       "<div>\n",
       "<style scoped>\n",
       "    .dataframe tbody tr th:only-of-type {\n",
       "        vertical-align: middle;\n",
       "    }\n",
       "\n",
       "    .dataframe tbody tr th {\n",
       "        vertical-align: top;\n",
       "    }\n",
       "\n",
       "    .dataframe thead th {\n",
       "        text-align: right;\n",
       "    }\n",
       "</style>\n",
       "<table border=\"1\" class=\"dataframe\">\n",
       "  <thead>\n",
       "    <tr style=\"text-align: right;\">\n",
       "      <th></th>\n",
       "      <th>claim_id</th>\n",
       "      <th>customer_id</th>\n",
       "      <th>incident_cause</th>\n",
       "      <th>claim_date</th>\n",
       "      <th>claim_area</th>\n",
       "      <th>police_report</th>\n",
       "      <th>claim_type</th>\n",
       "      <th>claim_amount</th>\n",
       "      <th>total_policy_claims</th>\n",
       "      <th>fraudulent</th>\n",
       "      <th>CUST_ID</th>\n",
       "      <th>gender</th>\n",
       "      <th>DateOfBirth</th>\n",
       "      <th>State</th>\n",
       "      <th>Contact</th>\n",
       "      <th>Segment</th>\n",
       "      <th>unreported_claims</th>\n",
       "    </tr>\n",
       "  </thead>\n",
       "  <tbody>\n",
       "    <tr>\n",
       "      <th>0</th>\n",
       "      <td>54004764</td>\n",
       "      <td>21868593</td>\n",
       "      <td>Driver error</td>\n",
       "      <td>2017-11-27</td>\n",
       "      <td>Auto</td>\n",
       "      <td>No</td>\n",
       "      <td>Material only</td>\n",
       "      <td>2980.0</td>\n",
       "      <td>1.0</td>\n",
       "      <td>No</td>\n",
       "      <td>21868593</td>\n",
       "      <td>Female</td>\n",
       "      <td>1979-01-12</td>\n",
       "      <td>VT</td>\n",
       "      <td>789-916-8172</td>\n",
       "      <td>Platinum</td>\n",
       "      <td>0</td>\n",
       "    </tr>\n",
       "    <tr>\n",
       "      <th>1</th>\n",
       "      <td>33985796</td>\n",
       "      <td>75740424</td>\n",
       "      <td>Crime</td>\n",
       "      <td>2018-10-03</td>\n",
       "      <td>Home</td>\n",
       "      <td>Unknown</td>\n",
       "      <td>Material only</td>\n",
       "      <td>2980.0</td>\n",
       "      <td>3.0</td>\n",
       "      <td>No</td>\n",
       "      <td>75740424</td>\n",
       "      <td>Female</td>\n",
       "      <td>1970-01-13</td>\n",
       "      <td>ME</td>\n",
       "      <td>265-543-1264</td>\n",
       "      <td>Silver</td>\n",
       "      <td>1</td>\n",
       "    </tr>\n",
       "    <tr>\n",
       "      <th>2</th>\n",
       "      <td>53522022</td>\n",
       "      <td>30308357</td>\n",
       "      <td>Other driver error</td>\n",
       "      <td>2018-02-02</td>\n",
       "      <td>Auto</td>\n",
       "      <td>No</td>\n",
       "      <td>Material only</td>\n",
       "      <td>3369.5</td>\n",
       "      <td>1.0</td>\n",
       "      <td>Yes</td>\n",
       "      <td>30308357</td>\n",
       "      <td>Female</td>\n",
       "      <td>1984-03-11</td>\n",
       "      <td>TN</td>\n",
       "      <td>798-631-4758</td>\n",
       "      <td>Silver</td>\n",
       "      <td>0</td>\n",
       "    </tr>\n",
       "    <tr>\n",
       "      <th>3</th>\n",
       "      <td>63017412</td>\n",
       "      <td>30308357</td>\n",
       "      <td>Driver error</td>\n",
       "      <td>2018-04-04</td>\n",
       "      <td>Auto</td>\n",
       "      <td>No</td>\n",
       "      <td>Material only</td>\n",
       "      <td>1950.0</td>\n",
       "      <td>6.0</td>\n",
       "      <td>No</td>\n",
       "      <td>30308357</td>\n",
       "      <td>Female</td>\n",
       "      <td>1984-03-11</td>\n",
       "      <td>TN</td>\n",
       "      <td>798-631-4758</td>\n",
       "      <td>Silver</td>\n",
       "      <td>0</td>\n",
       "    </tr>\n",
       "    <tr>\n",
       "      <th>4</th>\n",
       "      <td>13015401</td>\n",
       "      <td>47830476</td>\n",
       "      <td>Natural causes</td>\n",
       "      <td>2018-06-17</td>\n",
       "      <td>Auto</td>\n",
       "      <td>No</td>\n",
       "      <td>Material only</td>\n",
       "      <td>1680.0</td>\n",
       "      <td>1.0</td>\n",
       "      <td>No</td>\n",
       "      <td>47830476</td>\n",
       "      <td>Female</td>\n",
       "      <td>1986-05-01</td>\n",
       "      <td>MA</td>\n",
       "      <td>413-187-7945</td>\n",
       "      <td>Silver</td>\n",
       "      <td>0</td>\n",
       "    </tr>\n",
       "    <tr>\n",
       "      <th>5</th>\n",
       "      <td>91609100</td>\n",
       "      <td>47830476</td>\n",
       "      <td>Natural causes</td>\n",
       "      <td>2017-04-12</td>\n",
       "      <td>Auto</td>\n",
       "      <td>Unknown</td>\n",
       "      <td>Material only</td>\n",
       "      <td>1440.0</td>\n",
       "      <td>1.0</td>\n",
       "      <td>No</td>\n",
       "      <td>47830476</td>\n",
       "      <td>Female</td>\n",
       "      <td>1986-05-01</td>\n",
       "      <td>MA</td>\n",
       "      <td>413-187-7945</td>\n",
       "      <td>Silver</td>\n",
       "      <td>1</td>\n",
       "    </tr>\n",
       "    <tr>\n",
       "      <th>6</th>\n",
       "      <td>22890252</td>\n",
       "      <td>19269962</td>\n",
       "      <td>Crime</td>\n",
       "      <td>2018-01-13</td>\n",
       "      <td>Auto</td>\n",
       "      <td>No</td>\n",
       "      <td>Material only</td>\n",
       "      <td>2680.0</td>\n",
       "      <td>1.0</td>\n",
       "      <td>No</td>\n",
       "      <td>19269962</td>\n",
       "      <td>Male</td>\n",
       "      <td>1977-05-13</td>\n",
       "      <td>NV</td>\n",
       "      <td>956-871-8691</td>\n",
       "      <td>Gold</td>\n",
       "      <td>0</td>\n",
       "    </tr>\n",
       "    <tr>\n",
       "      <th>7</th>\n",
       "      <td>39219616</td>\n",
       "      <td>19269962</td>\n",
       "      <td>Other causes</td>\n",
       "      <td>2018-09-26</td>\n",
       "      <td>Auto</td>\n",
       "      <td>No</td>\n",
       "      <td>Material only</td>\n",
       "      <td>2240.0</td>\n",
       "      <td>2.0</td>\n",
       "      <td>No</td>\n",
       "      <td>19269962</td>\n",
       "      <td>Male</td>\n",
       "      <td>1977-05-13</td>\n",
       "      <td>NV</td>\n",
       "      <td>956-871-8691</td>\n",
       "      <td>Gold</td>\n",
       "      <td>0</td>\n",
       "    </tr>\n",
       "    <tr>\n",
       "      <th>8</th>\n",
       "      <td>24050443</td>\n",
       "      <td>21831191</td>\n",
       "      <td>Other driver error</td>\n",
       "      <td>2017-10-04</td>\n",
       "      <td>Auto</td>\n",
       "      <td>No</td>\n",
       "      <td>Injury only</td>\n",
       "      <td>38306.5</td>\n",
       "      <td>3.0</td>\n",
       "      <td>Yes</td>\n",
       "      <td>21831191</td>\n",
       "      <td>Male</td>\n",
       "      <td>1977-05-17</td>\n",
       "      <td>NH</td>\n",
       "      <td>419-712-8513</td>\n",
       "      <td>Gold</td>\n",
       "      <td>0</td>\n",
       "    </tr>\n",
       "    <tr>\n",
       "      <th>9</th>\n",
       "      <td>91475471</td>\n",
       "      <td>21831191</td>\n",
       "      <td>Driver error</td>\n",
       "      <td>2018-02-09</td>\n",
       "      <td>Auto</td>\n",
       "      <td>Unknown</td>\n",
       "      <td>Material and injury</td>\n",
       "      <td>36810.0</td>\n",
       "      <td>1.0</td>\n",
       "      <td>No</td>\n",
       "      <td>21831191</td>\n",
       "      <td>Male</td>\n",
       "      <td>1977-05-17</td>\n",
       "      <td>NH</td>\n",
       "      <td>419-712-8513</td>\n",
       "      <td>Gold</td>\n",
       "      <td>1</td>\n",
       "    </tr>\n",
       "  </tbody>\n",
       "</table>\n",
       "</div>"
      ],
      "text/plain": [
       "   claim_id  customer_id      incident_cause claim_date claim_area  \\\n",
       "0  54004764     21868593        Driver error 2017-11-27       Auto   \n",
       "1  33985796     75740424               Crime 2018-10-03       Home   \n",
       "2  53522022     30308357  Other driver error 2018-02-02       Auto   \n",
       "3  63017412     30308357        Driver error 2018-04-04       Auto   \n",
       "4  13015401     47830476      Natural causes 2018-06-17       Auto   \n",
       "5  91609100     47830476      Natural causes 2017-04-12       Auto   \n",
       "6  22890252     19269962               Crime 2018-01-13       Auto   \n",
       "7  39219616     19269962        Other causes 2018-09-26       Auto   \n",
       "8  24050443     21831191  Other driver error 2017-10-04       Auto   \n",
       "9  91475471     21831191        Driver error 2018-02-09       Auto   \n",
       "\n",
       "  police_report           claim_type  claim_amount  total_policy_claims  \\\n",
       "0            No        Material only        2980.0                  1.0   \n",
       "1       Unknown        Material only        2980.0                  3.0   \n",
       "2            No        Material only        3369.5                  1.0   \n",
       "3            No        Material only        1950.0                  6.0   \n",
       "4            No        Material only        1680.0                  1.0   \n",
       "5       Unknown        Material only        1440.0                  1.0   \n",
       "6            No        Material only        2680.0                  1.0   \n",
       "7            No        Material only        2240.0                  2.0   \n",
       "8            No          Injury only       38306.5                  3.0   \n",
       "9       Unknown  Material and injury       36810.0                  1.0   \n",
       "\n",
       "  fraudulent   CUST_ID  gender DateOfBirth State       Contact   Segment  \\\n",
       "0         No  21868593  Female  1979-01-12    VT  789-916-8172  Platinum   \n",
       "1         No  75740424  Female  1970-01-13    ME  265-543-1264    Silver   \n",
       "2        Yes  30308357  Female  1984-03-11    TN  798-631-4758    Silver   \n",
       "3         No  30308357  Female  1984-03-11    TN  798-631-4758    Silver   \n",
       "4         No  47830476  Female  1986-05-01    MA  413-187-7945    Silver   \n",
       "5         No  47830476  Female  1986-05-01    MA  413-187-7945    Silver   \n",
       "6         No  19269962    Male  1977-05-13    NV  956-871-8691      Gold   \n",
       "7         No  19269962    Male  1977-05-13    NV  956-871-8691      Gold   \n",
       "8        Yes  21831191    Male  1977-05-17    NH  419-712-8513      Gold   \n",
       "9         No  21831191    Male  1977-05-17    NH  419-712-8513      Gold   \n",
       "\n",
       "   unreported_claims  \n",
       "0                  0  \n",
       "1                  1  \n",
       "2                  0  \n",
       "3                  0  \n",
       "4                  0  \n",
       "5                  1  \n",
       "6                  0  \n",
       "7                  0  \n",
       "8                  0  \n",
       "9                  1  "
      ]
     },
     "execution_count": 19,
     "metadata": {},
     "output_type": "execute_result"
    }
   ],
   "source": [
    "Cust_claims['unreported_claims']= np.where(Cust_claims.police_report== 'Unknown',1,0)\n",
    "Cust_claims.head(10)"
   ]
  },
  {
   "cell_type": "markdown",
   "id": "5df8681f",
   "metadata": {},
   "source": [
    "#### Q5. One customer can claim for insurance more than once and in each claim,multiple categories of claims can be involved. However, customer ID should remain unique. Retain the most recent observation and delete any duplicated records in the data based on the customer ID column."
   ]
  },
  {
   "cell_type": "code",
   "execution_count": 20,
   "id": "4dd716ed",
   "metadata": {},
   "outputs": [],
   "source": [
    "Cust_claims= Cust_claims.drop_duplicates(subset=\"customer_id\", keep= \"last\")"
   ]
  },
  {
   "cell_type": "code",
   "execution_count": 21,
   "id": "85232d88",
   "metadata": {},
   "outputs": [
    {
     "name": "stdout",
     "output_type": "stream",
     "text": [
      "Number of duplicate customer IDs after dropping duplicates: 0\n"
     ]
    }
   ],
   "source": [
    "duplicated_customer_ids = Cust_claims.duplicated(subset=\"customer_id\", keep=False)\n",
    "print(\"Number of duplicate customer IDs after dropping duplicates:\", sum(duplicated_customer_ids))"
   ]
  },
  {
   "cell_type": "code",
   "execution_count": 22,
   "id": "018c7a6b",
   "metadata": {},
   "outputs": [
    {
     "name": "stdout",
     "output_type": "stream",
     "text": [
      "Number of unique customer IDs: 1078\n"
     ]
    }
   ],
   "source": [
    "# Verify the data\n",
    "unique_customer_ids = Cust_claims[\"customer_id\"].unique()\n",
    "print(\"Number of unique customer IDs:\", len(unique_customer_ids))"
   ]
  },
  {
   "cell_type": "code",
   "execution_count": 23,
   "id": "fc77ae95",
   "metadata": {},
   "outputs": [
    {
     "name": "stdout",
     "output_type": "stream",
     "text": [
      "Each customer ID appears only once in the dataset.\n"
     ]
    }
   ],
   "source": [
    "# Ensure each customer ID appears only once\n",
    "if len(unique_customer_ids) == len(Cust_claims):\n",
    "    print(\"Each customer ID appears only once in the dataset.\")\n",
    "else:\n",
    "    print(\"There are still duplicated customer IDs in the dataset.\")"
   ]
  },
  {
   "cell_type": "markdown",
   "id": "0407c7c3",
   "metadata": {},
   "source": [
    "#### Q6. Check for missing values and impute the missing values with an appropriate value. (mean for continuous and mode for categorical)"
   ]
  },
  {
   "cell_type": "code",
   "execution_count": 24,
   "id": "91984b9b",
   "metadata": {},
   "outputs": [
    {
     "data": {
      "text/plain": [
       "claim_id                0\n",
       "customer_id             0\n",
       "incident_cause          0\n",
       "claim_date              0\n",
       "claim_area              0\n",
       "police_report           0\n",
       "claim_type              0\n",
       "claim_amount           65\n",
       "total_policy_claims    10\n",
       "fraudulent              0\n",
       "CUST_ID                 0\n",
       "gender                  0\n",
       "DateOfBirth             0\n",
       "State                   0\n",
       "Contact                 0\n",
       "Segment                 0\n",
       "unreported_claims       0\n",
       "dtype: int64"
      ]
     },
     "execution_count": 24,
     "metadata": {},
     "output_type": "execute_result"
    }
   ],
   "source": [
    "Cust_claims.isna().sum()"
   ]
  },
  {
   "cell_type": "code",
   "execution_count": 25,
   "id": "0da529a6",
   "metadata": {},
   "outputs": [
    {
     "name": "stdout",
     "output_type": "stream",
     "text": [
      "[ 2980.   1950.   1440.   2240.  36810.   1730.   1160.   2620.   2748.5\n",
      "  1495.  16690.   1870.   1050.  32560.   2870.   3208.5 17800.  31380.\n",
      " 36190.      nan  1010.  16830.   1690.   2830.  32640.   1210.  18580.\n",
      "  2630.   2540.   2320.   2725.5  2070.   1110.   1030.  16910.   1890.\n",
      " 33040.  25320.   2340.  33000.  19960.  27230.  16150.  32630.  41850.\n",
      " 30540.  25576.   2210.  40820.   1150.  35765.   2470.  20999.   3358.\n",
      " 41430.  20360.   2910.  33550.  33190.  25830.   1242.  20080.   2120.\n",
      " 19520.   2090.   1989.5  2060.  30080.   1680.  21505.   2040.  42722.5\n",
      " 34971.5  1288.  37800.   1180.  32480.   2710.   1943.5  2170.  31498.5\n",
      "  1700.   2220.   1020.   1400.  22960.  18400.  37524.5 16070.  17230.\n",
      " 24564.   2599.  23740.   1510.   2740.  23760.   1640.  23270.  29060.\n",
      " 25783.  36620.  21300.   2967.  44493.5  3070.5  2560.   1759.5  1771.\n",
      " 17360.   1368.5 19240.  14260.   1350.   1860.  15440.  32710.   1380.\n",
      "  2510.  44700.5  1550.   1850.   2760.  26480.  47610.  17590.   1080.\n",
      "  2610.   1320.   1840.   2970.  17180.   2720.   2700.  14240.  19440.\n",
      " 40180.   1260.   1880.   2260.   2960.   1253.5 32300.   1660.  22420.\n",
      "  2150.   2460.   1140.  17050.  25030.   2080.  38590.  21190.  36180.\n",
      " 30930.  47679.   2440.  28060.  24750.  29600.   1790.  31270.  30530.\n",
      "  3139.5 17290.   1570.  14330.   2530.  15240.  37200.  40660.   2310.\n",
      " 15920.   2290.   3059.   1630.   3335.   1580.   2645.  27560.  20660.\n",
      " 30350.   1740.  21830.   1280.  34770.   1391.5  1520.  17020.  31980.\n",
      " 41365.5 27520.  20200.  35830.   2600.   2410.   3312.  26310.  37400.\n",
      " 27610.  22100.   1590.   2920.   1679.  18308.  16940.   1600.  39307.\n",
      " 28750.   2714.   2415.  39280.   1403.  34300.   2650.  23960.   1529.5\n",
      "  1620.   2790.  19676.5 27266.5 33590.   2840.  16790.   1322.5 19900.\n",
      "  2691.   3128.   3036.   1173.   1200.  29960.   1970.   2640.  42124.5\n",
      " 21330.   1817.  17670.  32407.   1460.  41779.5  1770.  33900.  28740.\n",
      " 23980.   1184.5  2104.5  1040.  21942.  16460.   2590.  37290.   2280.\n",
      "  2656.5 35178.5 19390.   2730.  16700.   2886.5  1932.  41280.  26620.\n",
      " 26520.  14480.   1800.   2020.  20550.   2219.5 20310.   2330.  32960.\n",
      " 18530.   2750.   1920.  36350.   1450.  39928.   2450.   2810.   1207.5\n",
      " 29690.   1940.  32150.   1750.  28950.  33200.  45287.  28050.   2277.\n",
      "  2130.   1900.  24713.5 38970.   2360.  19640.  14170.   1100.  29900.\n",
      " 20970.   2900.  35800.  24080.  34590.   2370.  26130.  23370.  30420.\n",
      " 36075.5 22440.  21620.   1540.  24610.   2507.  20769.   2990.   1780.\n",
      " 30840.  32680.  31110.   2771.5  1000.   2230.   3427.  33490.  29630.\n",
      " 25010.   1909.  14460.  44367.   2392.  31901.  21447.5  2950.  22000.\n",
      "  2806.   1170.   3013.   1276.5 33030.  27002.  40210.  16880.   2323.\n",
      " 19820.  20630.   1710.   2940.  41320.   3231.5 37500.   2670.   2050.\n",
      " 25580.  39370.  17250.   2430.   2820.  31450.  23450.  13710.  16100.\n",
      "  2580.  25730.  40540.   1500.   1060.  37170.   2185.  37869.5  1820.\n",
      " 16040.  27310.   2550.  27910.  29480.   1300.  37630.  25950.  27240.\n",
      " 30340.  35250.  38890.  22570.  38120.   2369.   2081.5  1644.5  1265.\n",
      "  1863.  24667.5  2288.5  1810.  30015.  40880.  20033.  20230.   1670.\n",
      " 19297.  14720.  16760.  40170.  29830.  29530.  34970.   2850.   2932.5\n",
      " 27404.5 34160.   1430.   1480.  17721.5 30060.  44666.  28230.   1725.\n",
      " 19320.  24380.  33210.  26630.  14570.  30230.  23851.   1910.  19120.\n",
      " 47748.  44838.5 28382.   1530.  27830.  22011.  20720.   2334.5 37380.\n",
      " 34950.  14430.  25040.  38065.  26440.  28400.   2000.  18570.  13100.\n",
      " 34470.  40930.  19040.  26850.   3381.  23940.   1564.   3001.5 33520.\n",
      " 35910.  36170.  16380.  23430.   2553.   2270.  21920.   1490.   2265.5\n",
      "  1472.  36010.   2250.   2495.5  2890.  30500.  32040.  17070.  29428.5\n",
      " 31240.   2047.  21940.   1621.5  1240.  34390.  35480.   2010.   2520.\n",
      "  1518.   2150.5 34490.  32180.  34994.5  2800.  21480.   1978.   2093.\n",
      "  1920.5  2400.  21700.   1610.   2160.  46483.  21530.   3105.  33730.\n",
      " 39997.  19530.  18140.  33400.  19470.  25160.   1560.   1130.  22130.\n",
      " 33640.  19100.  19340.   1120.  14220.  18650.   3415.5 19400.  24621.5\n",
      "  3369.5 34460.  37740.   2357.5 33522.5  2110.  33752.5  1070.  33465.\n",
      " 16480.  13820.   2880.  20610.  34200.  24220.  20380.   2564.5 30170.\n",
      "  1980.  16680.   1370.  24050.  15040.  17951.5 33140.   1310.  37520.\n",
      "  2390.  32090.  16870.   2480.   2633.5 25350.   1250.   2955.5 48150.5\n",
      " 25093.   2680.   3277.5 27580.   1330.   2500.  20690.  26610.  37040.\n",
      " 25750.  18135.5 18963.5 39192.   2300.  36440.  21590.   1748.   1667.5\n",
      "  1587.   2702.5 31020.  45540.  22270.   2610.5 34210.  34530.  26890.\n",
      " 28040.   1230.  19750.  32730.   2587.5 26300.   1960.  20490.  16479.5\n",
      "  2100.   1190.  21600.  15750.  34780.  36500.  36860.   3116.5 23420.\n",
      " 30400.  29740.  22540.  31740.  27670.  44470.5 27330.  26250.  14690.\n",
      " 15270.   2770.   3323.5  1090.   2140.   2668.  21160.  32867.   2930.\n",
      "  2420.  17370.  13090.  33620.   1830.  18457.5 30670.   2380.5 40135.\n",
      " 29200.   1340.   2780.  42021.   2200.   2196.5 36670.  35310.   3151.\n",
      " 42872.  32750.   2490.  24900.  35280.   3093.5 22850.   2208.   1552.5\n",
      " 14250.  20458.5 28658.   1290.  15760.  25210.  40951.5  1470.  23483.\n",
      " 14360.  29220.  27350.  33360.   2852.   1720.  28760.   3346.5 48035.5\n",
      " 34010.  28520.  17870.   2380.   1357.  19895.  35920.  26320.  30890.\n",
      " 31210.   2162.   2242.5 25140.  37743.  44033.5 38950.  33330.   2173.5\n",
      " 33080. ]\n"
     ]
    }
   ],
   "source": [
    "print(Cust_claims['claim_amount'].unique())"
   ]
  },
  {
   "cell_type": "code",
   "execution_count": 26,
   "id": "4f41acc4",
   "metadata": {},
   "outputs": [
    {
     "name": "stdout",
     "output_type": "stream",
     "text": [
      "65\n"
     ]
    }
   ],
   "source": [
    "# Attempt to convert 'claim_amount' column to numeric\n",
    "Cust_claims['claim_amount'] = pd.to_numeric(Cust_claims['claim_amount'], errors='coerce')\n",
    "\n",
    "# Check if there are any non-numeric values left after coercion\n",
    "print(Cust_claims['claim_amount'].isna().sum())\n",
    "\n",
    "# Impute missing values with mean\n",
    "Cust_claims['claim_amount'].fillna(Cust_claims['claim_amount'].mean(), inplace=True)"
   ]
  },
  {
   "cell_type": "code",
   "execution_count": 27,
   "id": "83d6dc1a",
   "metadata": {},
   "outputs": [
    {
     "data": {
      "text/plain": [
       "0"
      ]
     },
     "execution_count": 27,
     "metadata": {},
     "output_type": "execute_result"
    }
   ],
   "source": [
    "Cust_claims[\"claim_amount\"]= Cust_claims['claim_amount'].replace(np.NaN,Cust_claims['claim_amount'].mean())\n",
    "Cust_claims[\"claim_amount\"].isna().sum()"
   ]
  },
  {
   "cell_type": "code",
   "execution_count": 28,
   "id": "8467a739",
   "metadata": {},
   "outputs": [
    {
     "name": "stdout",
     "output_type": "stream",
     "text": [
      "<class 'pandas.core.frame.DataFrame'>\n",
      "Index: 1078 entries, 0 to 1084\n",
      "Data columns (total 17 columns):\n",
      " #   Column               Non-Null Count  Dtype         \n",
      "---  ------               --------------  -----         \n",
      " 0   claim_id             1078 non-null   int64         \n",
      " 1   customer_id          1078 non-null   int64         \n",
      " 2   incident_cause       1078 non-null   object        \n",
      " 3   claim_date           1078 non-null   datetime64[ns]\n",
      " 4   claim_area           1078 non-null   object        \n",
      " 5   police_report        1078 non-null   object        \n",
      " 6   claim_type           1078 non-null   object        \n",
      " 7   claim_amount         1078 non-null   float64       \n",
      " 8   total_policy_claims  1068 non-null   float64       \n",
      " 9   fraudulent           1078 non-null   object        \n",
      " 10  CUST_ID              1078 non-null   int64         \n",
      " 11  gender               1078 non-null   object        \n",
      " 12  DateOfBirth          1078 non-null   datetime64[ns]\n",
      " 13  State                1078 non-null   object        \n",
      " 14  Contact              1078 non-null   object        \n",
      " 15  Segment              1078 non-null   object        \n",
      " 16  unreported_claims    1078 non-null   int32         \n",
      "dtypes: datetime64[ns](2), float64(2), int32(1), int64(3), object(9)\n",
      "memory usage: 147.4+ KB\n"
     ]
    }
   ],
   "source": [
    "Cust_claims.info()"
   ]
  },
  {
   "cell_type": "code",
   "execution_count": 29,
   "id": "0ff2067b",
   "metadata": {},
   "outputs": [],
   "source": [
    "Cust_claims[\"total_policy_claims\"] = Cust_claims['total_policy_claims'].fillna(Cust_claims['total_policy_claims'].mode()[0])"
   ]
  },
  {
   "cell_type": "code",
   "execution_count": 30,
   "id": "264ad041",
   "metadata": {},
   "outputs": [],
   "source": [
    "Cust_claims[\"total_policy_claims\"]= Cust_claims[\"total_policy_claims\"].astype(str)"
   ]
  },
  {
   "cell_type": "code",
   "execution_count": 31,
   "id": "91625c8c",
   "metadata": {},
   "outputs": [
    {
     "data": {
      "text/plain": [
       "0"
      ]
     },
     "execution_count": 31,
     "metadata": {},
     "output_type": "execute_result"
    }
   ],
   "source": [
    "Cust_claims[\"total_policy_claims\"].isna().sum()"
   ]
  },
  {
   "cell_type": "markdown",
   "id": "d6d7f371",
   "metadata": {},
   "source": [
    "#### Q7. Calculate the age of customers in years. Based on the age, categorize the customers according to the below criteria \n",
    "###### Children < 18 \n",
    "###### Youth 18-30 \n",
    "###### Adult 30-60 \n",
    "###### Senior > 60"
   ]
  },
  {
   "cell_type": "code",
   "execution_count": 32,
   "id": "e84b3d03",
   "metadata": {},
   "outputs": [],
   "source": [
    "curr_year = pd.to_datetime('today').year\n",
    "dob_year = pd.DatetimeIndex(Cust_claims['DateOfBirth']).year          #extract year from DateOfBirth\n",
    "x = dob_year-100                                               # for the years which belongs to 60's\n",
    "v = curr_year - x\n",
    "y = curr_year - dob_year\n",
    "Cust_claims['age'] = (np.where(dob_year > curr_year,v,y))\n",
    "#Categorising\n",
    "Cust_claims.loc[(Cust_claims.age < 18),'AgeGroup'] = 'Children'\n",
    "Cust_claims.loc[(Cust_claims.age >=18) & (Cust_claims.age <30),'AgeGroup'] = 'Youth'\n",
    "Cust_claims.loc[(Cust_claims.age >=30) & (Cust_claims.age <60),'AgeGroup'] = 'Adult'\n",
    "Cust_claims.loc[(Cust_claims.age >=60),'AgeGroup'] = 'Senior'"
   ]
  },
  {
   "cell_type": "code",
   "execution_count": 33,
   "id": "d6a2ce6c",
   "metadata": {},
   "outputs": [
    {
     "data": {
      "text/html": [
       "<div>\n",
       "<style scoped>\n",
       "    .dataframe tbody tr th:only-of-type {\n",
       "        vertical-align: middle;\n",
       "    }\n",
       "\n",
       "    .dataframe tbody tr th {\n",
       "        vertical-align: top;\n",
       "    }\n",
       "\n",
       "    .dataframe thead th {\n",
       "        text-align: right;\n",
       "    }\n",
       "</style>\n",
       "<table border=\"1\" class=\"dataframe\">\n",
       "  <thead>\n",
       "    <tr style=\"text-align: right;\">\n",
       "      <th></th>\n",
       "      <th>claim_id</th>\n",
       "      <th>customer_id</th>\n",
       "      <th>incident_cause</th>\n",
       "      <th>claim_date</th>\n",
       "      <th>claim_area</th>\n",
       "      <th>police_report</th>\n",
       "      <th>claim_type</th>\n",
       "      <th>claim_amount</th>\n",
       "      <th>total_policy_claims</th>\n",
       "      <th>fraudulent</th>\n",
       "      <th>CUST_ID</th>\n",
       "      <th>gender</th>\n",
       "      <th>DateOfBirth</th>\n",
       "      <th>State</th>\n",
       "      <th>Contact</th>\n",
       "      <th>Segment</th>\n",
       "      <th>unreported_claims</th>\n",
       "      <th>age</th>\n",
       "      <th>AgeGroup</th>\n",
       "    </tr>\n",
       "  </thead>\n",
       "  <tbody>\n",
       "    <tr>\n",
       "      <th>0</th>\n",
       "      <td>54004764</td>\n",
       "      <td>21868593</td>\n",
       "      <td>Driver error</td>\n",
       "      <td>2017-11-27</td>\n",
       "      <td>Auto</td>\n",
       "      <td>No</td>\n",
       "      <td>Material only</td>\n",
       "      <td>2980.0</td>\n",
       "      <td>1.0</td>\n",
       "      <td>No</td>\n",
       "      <td>21868593</td>\n",
       "      <td>Female</td>\n",
       "      <td>1979-01-12</td>\n",
       "      <td>VT</td>\n",
       "      <td>789-916-8172</td>\n",
       "      <td>Platinum</td>\n",
       "      <td>0</td>\n",
       "      <td>45</td>\n",
       "      <td>Adult</td>\n",
       "    </tr>\n",
       "    <tr>\n",
       "      <th>1</th>\n",
       "      <td>33985796</td>\n",
       "      <td>75740424</td>\n",
       "      <td>Crime</td>\n",
       "      <td>2018-10-03</td>\n",
       "      <td>Home</td>\n",
       "      <td>Unknown</td>\n",
       "      <td>Material only</td>\n",
       "      <td>2980.0</td>\n",
       "      <td>3.0</td>\n",
       "      <td>No</td>\n",
       "      <td>75740424</td>\n",
       "      <td>Female</td>\n",
       "      <td>1970-01-13</td>\n",
       "      <td>ME</td>\n",
       "      <td>265-543-1264</td>\n",
       "      <td>Silver</td>\n",
       "      <td>1</td>\n",
       "      <td>54</td>\n",
       "      <td>Adult</td>\n",
       "    </tr>\n",
       "    <tr>\n",
       "      <th>3</th>\n",
       "      <td>63017412</td>\n",
       "      <td>30308357</td>\n",
       "      <td>Driver error</td>\n",
       "      <td>2018-04-04</td>\n",
       "      <td>Auto</td>\n",
       "      <td>No</td>\n",
       "      <td>Material only</td>\n",
       "      <td>1950.0</td>\n",
       "      <td>6.0</td>\n",
       "      <td>No</td>\n",
       "      <td>30308357</td>\n",
       "      <td>Female</td>\n",
       "      <td>1984-03-11</td>\n",
       "      <td>TN</td>\n",
       "      <td>798-631-4758</td>\n",
       "      <td>Silver</td>\n",
       "      <td>0</td>\n",
       "      <td>40</td>\n",
       "      <td>Adult</td>\n",
       "    </tr>\n",
       "    <tr>\n",
       "      <th>5</th>\n",
       "      <td>91609100</td>\n",
       "      <td>47830476</td>\n",
       "      <td>Natural causes</td>\n",
       "      <td>2017-04-12</td>\n",
       "      <td>Auto</td>\n",
       "      <td>Unknown</td>\n",
       "      <td>Material only</td>\n",
       "      <td>1440.0</td>\n",
       "      <td>1.0</td>\n",
       "      <td>No</td>\n",
       "      <td>47830476</td>\n",
       "      <td>Female</td>\n",
       "      <td>1986-05-01</td>\n",
       "      <td>MA</td>\n",
       "      <td>413-187-7945</td>\n",
       "      <td>Silver</td>\n",
       "      <td>1</td>\n",
       "      <td>38</td>\n",
       "      <td>Adult</td>\n",
       "    </tr>\n",
       "    <tr>\n",
       "      <th>7</th>\n",
       "      <td>39219616</td>\n",
       "      <td>19269962</td>\n",
       "      <td>Other causes</td>\n",
       "      <td>2018-09-26</td>\n",
       "      <td>Auto</td>\n",
       "      <td>No</td>\n",
       "      <td>Material only</td>\n",
       "      <td>2240.0</td>\n",
       "      <td>2.0</td>\n",
       "      <td>No</td>\n",
       "      <td>19269962</td>\n",
       "      <td>Male</td>\n",
       "      <td>1977-05-13</td>\n",
       "      <td>NV</td>\n",
       "      <td>956-871-8691</td>\n",
       "      <td>Gold</td>\n",
       "      <td>0</td>\n",
       "      <td>47</td>\n",
       "      <td>Adult</td>\n",
       "    </tr>\n",
       "  </tbody>\n",
       "</table>\n",
       "</div>"
      ],
      "text/plain": [
       "   claim_id  customer_id  incident_cause claim_date claim_area police_report  \\\n",
       "0  54004764     21868593    Driver error 2017-11-27       Auto            No   \n",
       "1  33985796     75740424           Crime 2018-10-03       Home       Unknown   \n",
       "3  63017412     30308357    Driver error 2018-04-04       Auto            No   \n",
       "5  91609100     47830476  Natural causes 2017-04-12       Auto       Unknown   \n",
       "7  39219616     19269962    Other causes 2018-09-26       Auto            No   \n",
       "\n",
       "      claim_type  claim_amount total_policy_claims fraudulent   CUST_ID  \\\n",
       "0  Material only        2980.0                 1.0         No  21868593   \n",
       "1  Material only        2980.0                 3.0         No  75740424   \n",
       "3  Material only        1950.0                 6.0         No  30308357   \n",
       "5  Material only        1440.0                 1.0         No  47830476   \n",
       "7  Material only        2240.0                 2.0         No  19269962   \n",
       "\n",
       "   gender DateOfBirth State       Contact   Segment  unreported_claims  age  \\\n",
       "0  Female  1979-01-12    VT  789-916-8172  Platinum                  0   45   \n",
       "1  Female  1970-01-13    ME  265-543-1264    Silver                  1   54   \n",
       "3  Female  1984-03-11    TN  798-631-4758    Silver                  0   40   \n",
       "5  Female  1986-05-01    MA  413-187-7945    Silver                  1   38   \n",
       "7    Male  1977-05-13    NV  956-871-8691      Gold                  0   47   \n",
       "\n",
       "  AgeGroup  \n",
       "0    Adult  \n",
       "1    Adult  \n",
       "3    Adult  \n",
       "5    Adult  \n",
       "7    Adult  "
      ]
     },
     "execution_count": 33,
     "metadata": {},
     "output_type": "execute_result"
    }
   ],
   "source": [
    "Cust_claims.head()"
   ]
  },
  {
   "cell_type": "code",
   "execution_count": 34,
   "id": "56559928",
   "metadata": {},
   "outputs": [
    {
     "data": {
      "text/plain": [
       "AgeGroup\n",
       "Adult     805\n",
       "Senior    132\n",
       "Youth     141\n",
       "Name: age, dtype: int64"
      ]
     },
     "execution_count": 34,
     "metadata": {},
     "output_type": "execute_result"
    }
   ],
   "source": [
    "Cust_claims.groupby([\"AgeGroup\"])[\"age\"].count()"
   ]
  },
  {
   "cell_type": "markdown",
   "id": "9e2ec2a6",
   "metadata": {},
   "source": [
    "#### Q8. What is the average amount claimed by the customers from various segments?"
   ]
  },
  {
   "cell_type": "code",
   "execution_count": 35,
   "id": "059d7c76",
   "metadata": {},
   "outputs": [
    {
     "data": {
      "text/plain": [
       "Segment\n",
       "Gold        12846.39\n",
       "Platinum    12371.64\n",
       "Silver      12267.15\n",
       "Name: claim_amount, dtype: float64"
      ]
     },
     "execution_count": 35,
     "metadata": {},
     "output_type": "execute_result"
    }
   ],
   "source": [
    "Avg_amount_segment= round(Cust_claims.groupby([\"Segment\"])[\"claim_amount\"].mean(),2)\n",
    "Avg_amount_segment"
   ]
  },
  {
   "cell_type": "markdown",
   "id": "beafcfe1",
   "metadata": {},
   "source": [
    "#### Q9. What is the total claim amount based on incident cause for all the claims that have been done at least 20 days prior to 1st of October, 2018."
   ]
  },
  {
   "cell_type": "code",
   "execution_count": 36,
   "id": "8679777b",
   "metadata": {},
   "outputs": [
    {
     "data": {
      "text/plain": [
       "incident_cause\n",
       "total_Crime                  721937.45\n",
       "total_Driver error          3315847.88\n",
       "total_Natural causes        1312744.91\n",
       "total_Other causes          3723147.30\n",
       "total_Other driver error    3277533.37\n",
       "Name: claim_amount, dtype: float64"
      ]
     },
     "execution_count": 36,
     "metadata": {},
     "output_type": "execute_result"
    }
   ],
   "source": [
    "Amount_incedent= round(Cust_claims.loc[Cust_claims.claim_date < \"2018-09-10\",:].groupby(\"incident_cause\")[\"claim_amount\"].sum().add_prefix(\"total_\"),2)\n",
    "Amount_incedent"
   ]
  },
  {
   "cell_type": "markdown",
   "id": "8a029f2e",
   "metadata": {},
   "source": [
    "#### Q10. How many adults from TX, DE and AK claimed insurance for driver related issues and causes?"
   ]
  },
  {
   "cell_type": "code",
   "execution_count": 37,
   "id": "f2c0a03f",
   "metadata": {},
   "outputs": [
    {
     "data": {
      "text/plain": [
       "Index(['claim_id', 'customer_id', 'incident_cause', 'claim_date', 'claim_area',\n",
       "       'police_report', 'claim_type', 'claim_amount', 'total_policy_claims',\n",
       "       'fraudulent', 'CUST_ID', 'gender', 'DateOfBirth', 'State', 'Contact',\n",
       "       'Segment', 'unreported_claims', 'age', 'AgeGroup'],\n",
       "      dtype='object')"
      ]
     },
     "execution_count": 37,
     "metadata": {},
     "output_type": "execute_result"
    }
   ],
   "source": [
    "Cust_claims.columns"
   ]
  },
  {
   "cell_type": "code",
   "execution_count": 38,
   "id": "9f86a7e1",
   "metadata": {},
   "outputs": [
    {
     "data": {
      "text/plain": [
       "State\n",
       "AK    19\n",
       "DE    29\n",
       "TX    10\n",
       "Name: claim_amount, dtype: int64"
      ]
     },
     "execution_count": 38,
     "metadata": {},
     "output_type": "execute_result"
    }
   ],
   "source": [
    "Adults_claims_count= Cust_claims.loc[(Cust_claims.incident_cause.str.lower().str.contains(\"driver\") & (Cust_claims.State== \"TX\") | (Cust_claims.State== \"DE\") | (Cust_claims.State== \"AK\")) ].groupby([\"State\"])[\"claim_amount\"].count()\n",
    "Adults_claims_count"
   ]
  },
  {
   "cell_type": "markdown",
   "id": "38179a14",
   "metadata": {},
   "source": [
    "#### Q11. Draw a pie chart between the aggregated value of claim amount based on gender and segment. Represent the claim amount as a percentage on the pie chart."
   ]
  },
  {
   "cell_type": "code",
   "execution_count": 39,
   "id": "37d7c44f",
   "metadata": {},
   "outputs": [
    {
     "data": {
      "text/html": [
       "<div>\n",
       "<style scoped>\n",
       "    .dataframe tbody tr th:only-of-type {\n",
       "        vertical-align: middle;\n",
       "    }\n",
       "\n",
       "    .dataframe tbody tr th {\n",
       "        vertical-align: top;\n",
       "    }\n",
       "\n",
       "    .dataframe thead th {\n",
       "        text-align: right;\n",
       "    }\n",
       "</style>\n",
       "<table border=\"1\" class=\"dataframe\">\n",
       "  <thead>\n",
       "    <tr style=\"text-align: right;\">\n",
       "      <th></th>\n",
       "      <th>Segment</th>\n",
       "      <th>gender</th>\n",
       "      <th>claim_amount</th>\n",
       "    </tr>\n",
       "  </thead>\n",
       "  <tbody>\n",
       "    <tr>\n",
       "      <th>0</th>\n",
       "      <td>Gold</td>\n",
       "      <td>Female</td>\n",
       "      <td>2110042.41</td>\n",
       "    </tr>\n",
       "    <tr>\n",
       "      <th>1</th>\n",
       "      <td>Gold</td>\n",
       "      <td>Male</td>\n",
       "      <td>2655966.87</td>\n",
       "    </tr>\n",
       "    <tr>\n",
       "      <th>2</th>\n",
       "      <td>Platinum</td>\n",
       "      <td>Female</td>\n",
       "      <td>2369720.43</td>\n",
       "    </tr>\n",
       "    <tr>\n",
       "      <th>3</th>\n",
       "      <td>Platinum</td>\n",
       "      <td>Male</td>\n",
       "      <td>2096443.42</td>\n",
       "    </tr>\n",
       "    <tr>\n",
       "      <th>4</th>\n",
       "      <td>Silver</td>\n",
       "      <td>Female</td>\n",
       "      <td>1897301.87</td>\n",
       "    </tr>\n",
       "    <tr>\n",
       "      <th>5</th>\n",
       "      <td>Silver</td>\n",
       "      <td>Male</td>\n",
       "      <td>2347130.84</td>\n",
       "    </tr>\n",
       "  </tbody>\n",
       "</table>\n",
       "</div>"
      ],
      "text/plain": [
       "    Segment  gender  claim_amount\n",
       "0      Gold  Female    2110042.41\n",
       "1      Gold    Male    2655966.87\n",
       "2  Platinum  Female    2369720.43\n",
       "3  Platinum    Male    2096443.42\n",
       "4    Silver  Female    1897301.87\n",
       "5    Silver    Male    2347130.84"
      ]
     },
     "execution_count": 39,
     "metadata": {},
     "output_type": "execute_result"
    }
   ],
   "source": [
    "Claim_gender_segment= round(Cust_claims.groupby([\"Segment\", \"gender\"])[\"claim_amount\"].sum().reset_index(),2)\n",
    "Claim_gender_segment"
   ]
  },
  {
   "cell_type": "code",
   "execution_count": 40,
   "id": "c1ed50b4",
   "metadata": {},
   "outputs": [
    {
     "data": {
      "text/html": [
       "<div>\n",
       "<style scoped>\n",
       "    .dataframe tbody tr th:only-of-type {\n",
       "        vertical-align: middle;\n",
       "    }\n",
       "\n",
       "    .dataframe tbody tr th {\n",
       "        vertical-align: top;\n",
       "    }\n",
       "\n",
       "    .dataframe thead th {\n",
       "        text-align: right;\n",
       "    }\n",
       "</style>\n",
       "<table border=\"1\" class=\"dataframe\">\n",
       "  <thead>\n",
       "    <tr style=\"text-align: right;\">\n",
       "      <th>gender</th>\n",
       "      <th>Female</th>\n",
       "      <th>Male</th>\n",
       "    </tr>\n",
       "    <tr>\n",
       "      <th>Segment</th>\n",
       "      <th></th>\n",
       "      <th></th>\n",
       "    </tr>\n",
       "  </thead>\n",
       "  <tbody>\n",
       "    <tr>\n",
       "      <th>Gold</th>\n",
       "      <td>2110042.41</td>\n",
       "      <td>2655966.87</td>\n",
       "    </tr>\n",
       "    <tr>\n",
       "      <th>Platinum</th>\n",
       "      <td>2369720.43</td>\n",
       "      <td>2096443.42</td>\n",
       "    </tr>\n",
       "    <tr>\n",
       "      <th>Silver</th>\n",
       "      <td>1897301.87</td>\n",
       "      <td>2347130.84</td>\n",
       "    </tr>\n",
       "  </tbody>\n",
       "</table>\n",
       "</div>"
      ],
      "text/plain": [
       "gender        Female        Male\n",
       "Segment                         \n",
       "Gold      2110042.41  2655966.87\n",
       "Platinum  2369720.43  2096443.42\n",
       "Silver    1897301.87  2347130.84"
      ]
     },
     "execution_count": 40,
     "metadata": {},
     "output_type": "execute_result"
    }
   ],
   "source": [
    "Claim_gender_segment_pivot= Claim_gender_segment.pivot(index=\"Segment\", columns= \"gender\", values= \"claim_amount\")\n",
    "Claim_gender_segment_pivot"
   ]
  },
  {
   "cell_type": "code",
   "execution_count": 41,
   "id": "b4c6f650",
   "metadata": {},
   "outputs": [
    {
     "data": {
      "image/png": "[encoded data removed]",
      "text/plain": [
       "<Figure size 2000x1000 with 3 Axes>"
      ]
     },
     "metadata": {},
     "output_type": "display_data"
    }
   ],
   "source": [
    "Claim_gender_segment_pivot.T.plot(kind=\"pie\", subplots= True, legend= False,figsize=(20,10))\n",
    "plt.show()"
   ]
  },
  {
   "cell_type": "markdown",
   "id": "7e7e1d17",
   "metadata": {},
   "source": [
    "#### Q12. Among males and females, which gender had claimed the most for any type of driver related issues? E.g. This metric can be compared using a bar chart"
   ]
  },
  {
   "cell_type": "code",
   "execution_count": 42,
   "id": "d6c06ebf",
   "metadata": {},
   "outputs": [
    {
     "data": {
      "text/html": [
       "<div>\n",
       "<style scoped>\n",
       "    .dataframe tbody tr th:only-of-type {\n",
       "        vertical-align: middle;\n",
       "    }\n",
       "\n",
       "    .dataframe tbody tr th {\n",
       "        vertical-align: top;\n",
       "    }\n",
       "\n",
       "    .dataframe thead th {\n",
       "        text-align: right;\n",
       "    }\n",
       "</style>\n",
       "<table border=\"1\" class=\"dataframe\">\n",
       "  <thead>\n",
       "    <tr style=\"text-align: right;\">\n",
       "      <th></th>\n",
       "      <th>gender</th>\n",
       "      <th>countOf_gender</th>\n",
       "    </tr>\n",
       "  </thead>\n",
       "  <tbody>\n",
       "    <tr>\n",
       "      <th>0</th>\n",
       "      <td>Female</td>\n",
       "      <td>221</td>\n",
       "    </tr>\n",
       "    <tr>\n",
       "      <th>1</th>\n",
       "      <td>Male</td>\n",
       "      <td>281</td>\n",
       "    </tr>\n",
       "  </tbody>\n",
       "</table>\n",
       "</div>"
      ],
      "text/plain": [
       "   gender  countOf_gender\n",
       "0  Female             221\n",
       "1    Male             281"
      ]
     },
     "execution_count": 42,
     "metadata": {},
     "output_type": "execute_result"
    }
   ],
   "source": [
    "Claim_gender_driver= Cust_claims.loc[(Cust_claims.incident_cause.str.lower().str.contains(\"driver\"))].groupby([\"gender\"])[[\"gender\"]].count().add_prefix(\"countOf_\").reset_index()\n",
    "Claim_gender_driver"
   ]
  },
  {
   "cell_type": "code",
   "execution_count": 43,
   "id": "d9181335",
   "metadata": {},
   "outputs": [
    {
     "data": {
      "text/plain": [
       "[]"
      ]
     },
     "execution_count": 43,
     "metadata": {},
     "output_type": "execute_result"
    },
    {
     "data": {
      "image/png": "[encoded data removed]",
      "text/plain": [
       "<Figure size 640x480 with 1 Axes>"
      ]
     },
     "metadata": {},
     "output_type": "display_data"
    }
   ],
   "source": [
    "sns.barplot(x= \"gender\", y= \"countOf_gender\", data= Claim_gender_driver)\n",
    "plt.plot()"
   ]
  },
  {
   "cell_type": "markdown",
   "id": "338d9daf",
   "metadata": {},
   "source": [
    "#### Q13. Which age group had the maximum fraudulent policy claims? Visualize it on a bar char"
   ]
  },
  {
   "cell_type": "code",
   "execution_count": 44,
   "id": "4cad60b4",
   "metadata": {},
   "outputs": [],
   "source": [
    "Cust_claims[\"Frauds\"]= np.where(Cust_claims.fraudulent == \"Yes\",1,0)"
   ]
  },
  {
   "cell_type": "code",
   "execution_count": 45,
   "id": "cc3a1067",
   "metadata": {},
   "outputs": [
    {
     "data": {
      "text/html": [
       "<div>\n",
       "<style scoped>\n",
       "    .dataframe tbody tr th:only-of-type {\n",
       "        vertical-align: middle;\n",
       "    }\n",
       "\n",
       "    .dataframe tbody tr th {\n",
       "        vertical-align: top;\n",
       "    }\n",
       "\n",
       "    .dataframe thead th {\n",
       "        text-align: right;\n",
       "    }\n",
       "</style>\n",
       "<table border=\"1\" class=\"dataframe\">\n",
       "  <thead>\n",
       "    <tr style=\"text-align: right;\">\n",
       "      <th></th>\n",
       "      <th>AgeGroup</th>\n",
       "      <th>Frauds</th>\n",
       "    </tr>\n",
       "  </thead>\n",
       "  <tbody>\n",
       "    <tr>\n",
       "      <th>0</th>\n",
       "      <td>Adult</td>\n",
       "      <td>185</td>\n",
       "    </tr>\n",
       "    <tr>\n",
       "      <th>1</th>\n",
       "      <td>Senior</td>\n",
       "      <td>35</td>\n",
       "    </tr>\n",
       "    <tr>\n",
       "      <th>2</th>\n",
       "      <td>Youth</td>\n",
       "      <td>25</td>\n",
       "    </tr>\n",
       "  </tbody>\n",
       "</table>\n",
       "</div>"
      ],
      "text/plain": [
       "  AgeGroup  Frauds\n",
       "0    Adult     185\n",
       "1   Senior      35\n",
       "2    Youth      25"
      ]
     },
     "execution_count": 45,
     "metadata": {},
     "output_type": "execute_result"
    }
   ],
   "source": [
    "AgeGroup_max_frauds= Cust_claims.groupby([\"AgeGroup\"])[\"Frauds\"].sum().reset_index()\n",
    "AgeGroup_max_frauds"
   ]
  },
  {
   "cell_type": "code",
   "execution_count": 46,
   "id": "5de42b84",
   "metadata": {},
   "outputs": [
    {
     "data": {
      "text/plain": [
       "[]"
      ]
     },
     "execution_count": 46,
     "metadata": {},
     "output_type": "execute_result"
    },
    {
     "data": {
      "image/png": "[encoded data removed]",
      "text/plain": [
       "<Figure size 640x480 with 1 Axes>"
      ]
     },
     "metadata": {},
     "output_type": "display_data"
    }
   ],
   "source": [
    "sns.barplot(x= \"AgeGroup\", y=\"Frauds\", data=AgeGroup_max_frauds )\n",
    "plt.plot()"
   ]
  },
  {
   "cell_type": "markdown",
   "id": "5c5dd79a",
   "metadata": {},
   "source": [
    "#### Q14. Visualize the monthly trend of the total amount that has been claimed by the customers. Ensure that on the “month” axis, the month is in a chronological order not alphabetical order."
   ]
  },
  {
   "cell_type": "code",
   "execution_count": 47,
   "id": "faa60a53",
   "metadata": {},
   "outputs": [],
   "source": [
    "Cust_claims['claim_month'] = pd.to_datetime(Cust_claims['claim_date'])\n",
    "Cust_claims['Claim_month'] = Cust_claims['claim_month'].dt.month"
   ]
  },
  {
   "cell_type": "code",
   "execution_count": 48,
   "id": "f8fd0a00",
   "metadata": {},
   "outputs": [
    {
     "data": {
      "image/png": "[encoded data removed]",
      "text/plain": [
       "<Figure size 640x480 with 1 Axes>"
      ]
     },
     "metadata": {},
     "output_type": "display_data"
    }
   ],
   "source": [
    "pd.pivot_table(Cust_claims,index=\"Claim_month\",values=\"claim_amount\").plot(kind='bar')\n",
    "plt.ylabel('Total amount spend')\n",
    "plt.show()"
   ]
  },
  {
   "cell_type": "markdown",
   "id": "b19d8dad",
   "metadata": {},
   "source": [
    "#### Q15. What is the average claim amount for gender and age categories and suitably represent the above using a facetted bar chart, one facet that represents fraudulent claims and the other for non-fraudulent claims."
   ]
  },
  {
   "cell_type": "code",
   "execution_count": 49,
   "id": "32c77d07",
   "metadata": {},
   "outputs": [],
   "source": [
    "Frauds_amount_gender= pd.DataFrame(Cust_claims.loc[(Cust_claims.fraudulent==\"Yes\")].groupby([\"gender\",\"AgeGroup\"])[[\"claim_amount\"]].mean().add_prefix(\"Fraud_\"))\n",
    "Non_Frauds_amount_gender=pd.DataFrame(Cust_claims.loc[(Cust_claims.fraudulent==\"No\")].groupby([\"gender\",\"AgeGroup\"])[[\"claim_amount\"]].mean().add_prefix(\"Non_Fraud_\"))"
   ]
  },
  {
   "cell_type": "code",
   "execution_count": 50,
   "id": "2bc9478f",
   "metadata": {},
   "outputs": [
    {
     "data": {
      "text/html": [
       "<div>\n",
       "<style scoped>\n",
       "    .dataframe tbody tr th:only-of-type {\n",
       "        vertical-align: middle;\n",
       "    }\n",
       "\n",
       "    .dataframe tbody tr th {\n",
       "        vertical-align: top;\n",
       "    }\n",
       "\n",
       "    .dataframe thead th {\n",
       "        text-align: right;\n",
       "    }\n",
       "</style>\n",
       "<table border=\"1\" class=\"dataframe\">\n",
       "  <thead>\n",
       "    <tr style=\"text-align: right;\">\n",
       "      <th></th>\n",
       "      <th></th>\n",
       "      <th>Fraud_claim_amount</th>\n",
       "      <th>Non_Fraud_claim_amount</th>\n",
       "    </tr>\n",
       "    <tr>\n",
       "      <th>gender</th>\n",
       "      <th>AgeGroup</th>\n",
       "      <th></th>\n",
       "      <th></th>\n",
       "    </tr>\n",
       "  </thead>\n",
       "  <tbody>\n",
       "    <tr>\n",
       "      <th rowspan=\"3\" valign=\"top\">Female</th>\n",
       "      <th>Adult</th>\n",
       "      <td>12916.53</td>\n",
       "      <td>12708.93</td>\n",
       "    </tr>\n",
       "    <tr>\n",
       "      <th>Senior</th>\n",
       "      <td>4860.84</td>\n",
       "      <td>11588.84</td>\n",
       "    </tr>\n",
       "    <tr>\n",
       "      <th>Youth</th>\n",
       "      <td>9684.78</td>\n",
       "      <td>11374.34</td>\n",
       "    </tr>\n",
       "    <tr>\n",
       "      <th rowspan=\"3\" valign=\"top\">Male</th>\n",
       "      <th>Adult</th>\n",
       "      <td>15383.11</td>\n",
       "      <td>12221.90</td>\n",
       "    </tr>\n",
       "    <tr>\n",
       "      <th>Senior</th>\n",
       "      <td>15424.15</td>\n",
       "      <td>11569.11</td>\n",
       "    </tr>\n",
       "    <tr>\n",
       "      <th>Youth</th>\n",
       "      <td>9705.04</td>\n",
       "      <td>13596.12</td>\n",
       "    </tr>\n",
       "  </tbody>\n",
       "</table>\n",
       "</div>"
      ],
      "text/plain": [
       "                 Fraud_claim_amount  Non_Fraud_claim_amount\n",
       "gender AgeGroup                                            \n",
       "Female Adult               12916.53                12708.93\n",
       "       Senior               4860.84                11588.84\n",
       "       Youth                9684.78                11374.34\n",
       "Male   Adult               15383.11                12221.90\n",
       "       Senior              15424.15                11569.11\n",
       "       Youth                9705.04                13596.12"
      ]
     },
     "execution_count": 50,
     "metadata": {},
     "output_type": "execute_result"
    }
   ],
   "source": [
    "Claims_age_gender=round(pd.merge(Frauds_amount_gender,Non_Frauds_amount_gender, on=[\"gender\",\"AgeGroup\"]),2)\n",
    "Claims_age_gender"
   ]
  },
  {
   "cell_type": "code",
   "execution_count": 51,
   "id": "7f417edf",
   "metadata": {},
   "outputs": [
    {
     "data": {
      "image/png": "[encoded data removed]",
      "text/plain": [
       "<Figure size 1000x1000 with 2 Axes>"
      ]
     },
     "metadata": {},
     "output_type": "display_data"
    }
   ],
   "source": [
    "Claims_age_gender.plot(kind=\"bar\", subplots= True, legend= True,figsize=(10,10))\n",
    "plt.show()"
   ]
  },
  {
   "cell_type": "markdown",
   "id": "5e1b6f2b",
   "metadata": {},
   "source": [
    "#### Based on the conclusions from exploratory analysis as well as suitable statistical tests, answer the below questions. Please include a detailed write-up on the parameters taken into consideration, the Hypothesis testing steps, conclusion from the p-values and the business implications of the statements."
   ]
  },
  {
   "cell_type": "markdown",
   "id": "d1736164",
   "metadata": {},
   "source": [
    "#### Q16. Is there any similarity in the amount claimed by males and females?¶"
   ]
  },
  {
   "cell_type": "code",
   "execution_count": 52,
   "id": "f0e38bc1",
   "metadata": {},
   "outputs": [],
   "source": [
    "claim_male = Cust_claims['claim_amount'].loc[Cust_claims['gender']==\"Male\"]\n",
    "claim_female = Cust_claims['claim_amount'].loc[Cust_claims['gender']==\"Female\"]"
   ]
  },
  {
   "cell_type": "code",
   "execution_count": 53,
   "id": "4b988db6",
   "metadata": {},
   "outputs": [
    {
     "name": "stdout",
     "output_type": "stream",
     "text": [
      "The average amount claimed by males is 12884.829631308417\n",
      "The average amount claimed by females is 12100.692029236623\n"
     ]
    }
   ],
   "source": [
    "print(\"The average amount claimed by males is {}\".format(claim_male.mean()))\n",
    "\n",
    "print(\"The average amount claimed by females is {}\".format(claim_female.mean()))"
   ]
  },
  {
   "cell_type": "code",
   "execution_count": 54,
   "id": "a3820bf7",
   "metadata": {},
   "outputs": [
    {
     "data": {
      "text/plain": [
       "0.9630529881732579"
      ]
     },
     "execution_count": 54,
     "metadata": {},
     "output_type": "execute_result"
    }
   ],
   "source": [
    "#checking the variance\n",
    "\n",
    "eq_var = stats.ttest_ind(a= claim_male,\n",
    "                b= claim_female,\n",
    "                equal_var=True)    # equal variance\n",
    "eq_var.statistic"
   ]
  },
  {
   "cell_type": "code",
   "execution_count": 55,
   "id": "d3d40a1d",
   "metadata": {},
   "outputs": [
    {
     "data": {
      "text/plain": [
       "0.9637241707490979"
      ]
     },
     "execution_count": 55,
     "metadata": {},
     "output_type": "execute_result"
    }
   ],
   "source": [
    "uneq_var = stats.ttest_ind(a= claim_male,\n",
    "                b= claim_female,\n",
    "                equal_var=False)    # UnEqual variance\n",
    "uneq_var.statistic"
   ]
  },
  {
   "cell_type": "code",
   "execution_count": 56,
   "id": "ef415963",
   "metadata": {},
   "outputs": [
    {
     "name": "stdout",
     "output_type": "stream",
     "text": [
      " For the above test, the t-score is 0.9630529881732579 and the p-value is 0.3357373087404283\n",
      "We fail to reject null hypothesis\n"
     ]
    }
   ],
   "source": [
    "t= eq_var.statistic\n",
    "p= eq_var.pvalue\n",
    "\n",
    "print(\" For the above test, the t-score is {} and the p-value is {}\".format(t,p))\n",
    "\n",
    "if(p<0.05):\n",
    "    print('We reject null hypothesis')\n",
    "else:\n",
    "    print('We fail to reject null hypothesis')"
   ]
  },
  {
   "cell_type": "markdown",
   "id": "9cd474cf",
   "metadata": {},
   "source": [
    "##### As the significance value of t test is greater than 0.05 we can safely conclude that there is a similarity in amount claimed by males and females."
   ]
  },
  {
   "cell_type": "markdown",
   "id": "2c61c1d1",
   "metadata": {},
   "source": [
    "#### Q17. Is there any relationship between age category and segment?"
   ]
  },
  {
   "cell_type": "code",
   "execution_count": 57,
   "id": "ff846d4c",
   "metadata": {},
   "outputs": [
    {
     "data": {
      "text/html": [
       "<div>\n",
       "<style scoped>\n",
       "    .dataframe tbody tr th:only-of-type {\n",
       "        vertical-align: middle;\n",
       "    }\n",
       "\n",
       "    .dataframe tbody tr th {\n",
       "        vertical-align: top;\n",
       "    }\n",
       "\n",
       "    .dataframe thead th {\n",
       "        text-align: right;\n",
       "    }\n",
       "</style>\n",
       "<table border=\"1\" class=\"dataframe\">\n",
       "  <thead>\n",
       "    <tr style=\"text-align: right;\">\n",
       "      <th>Segment</th>\n",
       "      <th>Gold</th>\n",
       "      <th>Platinum</th>\n",
       "      <th>Silver</th>\n",
       "      <th>All</th>\n",
       "    </tr>\n",
       "    <tr>\n",
       "      <th>AgeGroup</th>\n",
       "      <th></th>\n",
       "      <th></th>\n",
       "      <th></th>\n",
       "      <th></th>\n",
       "    </tr>\n",
       "  </thead>\n",
       "  <tbody>\n",
       "    <tr>\n",
       "      <th>Adult</th>\n",
       "      <td>278</td>\n",
       "      <td>270</td>\n",
       "      <td>257</td>\n",
       "      <td>805</td>\n",
       "    </tr>\n",
       "    <tr>\n",
       "      <th>Senior</th>\n",
       "      <td>45</td>\n",
       "      <td>47</td>\n",
       "      <td>40</td>\n",
       "      <td>132</td>\n",
       "    </tr>\n",
       "    <tr>\n",
       "      <th>Youth</th>\n",
       "      <td>48</td>\n",
       "      <td>44</td>\n",
       "      <td>49</td>\n",
       "      <td>141</td>\n",
       "    </tr>\n",
       "    <tr>\n",
       "      <th>All</th>\n",
       "      <td>371</td>\n",
       "      <td>361</td>\n",
       "      <td>346</td>\n",
       "      <td>1078</td>\n",
       "    </tr>\n",
       "  </tbody>\n",
       "</table>\n",
       "</div>"
      ],
      "text/plain": [
       "Segment   Gold  Platinum  Silver   All\n",
       "AgeGroup                              \n",
       "Adult      278       270     257   805\n",
       "Senior      45        47      40   132\n",
       "Youth       48        44      49   141\n",
       "All        371       361     346  1078"
      ]
     },
     "execution_count": 57,
     "metadata": {},
     "output_type": "execute_result"
    }
   ],
   "source": [
    "agecat_seg = pd.crosstab(Cust_claims.AgeGroup, Cust_claims.Segment, margins = True)\n",
    "agecat_seg"
   ]
  },
  {
   "cell_type": "code",
   "execution_count": 58,
   "id": "7a0dce9a",
   "metadata": {},
   "outputs": [
    {
     "data": {
      "text/plain": [
       "Chi2ContingencyResult(statistic=0.8591966330667935, pvalue=0.9996992437870238, dof=9, expected_freq=array([[ 277.04545455,  269.57792208,  258.37662338,  805.        ],\n",
       "       [  45.42857143,   44.20408163,   42.36734694,  132.        ],\n",
       "       [  48.52597403,   47.21799629,   45.25602968,  141.        ],\n",
       "       [ 371.        ,  361.        ,  346.        , 1078.        ]]))"
      ]
     },
     "execution_count": 58,
     "metadata": {},
     "output_type": "execute_result"
    }
   ],
   "source": [
    "Chi_test = stats.chi2_contingency(observed= agecat_seg)\n",
    "Chi_test"
   ]
  },
  {
   "cell_type": "code",
   "execution_count": 59,
   "id": "82b14b67",
   "metadata": {},
   "outputs": [
    {
     "name": "stdout",
     "output_type": "stream",
     "text": [
      "The chi square stat is 0.8591966330667935 and the p value is 0.9996992437870238\n"
     ]
    }
   ],
   "source": [
    "print(\"The chi square stat is {} and the p value is {}\".format(Chi_test[0],Chi_test[1]))"
   ]
  },
  {
   "cell_type": "markdown",
   "id": "edbf5026",
   "metadata": {},
   "source": [
    "##### Since the significance value of the test is greter than 0.05, we fail reject the null hypothesis. Therefore there is no relationship between age category and segment"
   ]
  },
  {
   "cell_type": "markdown",
   "id": "0a377447",
   "metadata": {},
   "source": [
    "#### Q18. The current year has shown a significant rise in claim amounts as compared to 2016-17 fiscal average which was $10,000."
   ]
  },
  {
   "cell_type": "code",
   "execution_count": 60,
   "id": "469a792b",
   "metadata": {},
   "outputs": [],
   "source": [
    "# Create Year column\n",
    "Cust_claims['claim_year']=Cust_claims['claim_date'].dt.year\n",
    "\n",
    "Cust_claims['claim_year']=Cust_claims['claim_year'].astype('Int64')"
   ]
  },
  {
   "cell_type": "code",
   "execution_count": 61,
   "id": "13bfd3d2",
   "metadata": {},
   "outputs": [
    {
     "data": {
      "text/plain": [
       "2018"
      ]
     },
     "execution_count": 61,
     "metadata": {},
     "output_type": "execute_result"
    }
   ],
   "source": [
    "# Get the current year (latest) from the data\n",
    "Cust_claims.claim_year.max()"
   ]
  },
  {
   "cell_type": "code",
   "execution_count": 62,
   "id": "044999a2",
   "metadata": {},
   "outputs": [
    {
     "data": {
      "text/html": [
       "<div>\n",
       "<style scoped>\n",
       "    .dataframe tbody tr th:only-of-type {\n",
       "        vertical-align: middle;\n",
       "    }\n",
       "\n",
       "    .dataframe tbody tr th {\n",
       "        vertical-align: top;\n",
       "    }\n",
       "\n",
       "    .dataframe thead th {\n",
       "        text-align: right;\n",
       "    }\n",
       "</style>\n",
       "<table border=\"1\" class=\"dataframe\">\n",
       "  <thead>\n",
       "    <tr style=\"text-align: right;\">\n",
       "      <th></th>\n",
       "      <th>claim_amount</th>\n",
       "    </tr>\n",
       "  </thead>\n",
       "  <tbody>\n",
       "    <tr>\n",
       "      <th>1</th>\n",
       "      <td>2980.0</td>\n",
       "    </tr>\n",
       "    <tr>\n",
       "      <th>3</th>\n",
       "      <td>1950.0</td>\n",
       "    </tr>\n",
       "    <tr>\n",
       "      <th>7</th>\n",
       "      <td>2240.0</td>\n",
       "    </tr>\n",
       "    <tr>\n",
       "      <th>9</th>\n",
       "      <td>36810.0</td>\n",
       "    </tr>\n",
       "    <tr>\n",
       "      <th>10</th>\n",
       "      <td>1730.0</td>\n",
       "    </tr>\n",
       "    <tr>\n",
       "      <th>...</th>\n",
       "      <td>...</td>\n",
       "    </tr>\n",
       "    <tr>\n",
       "      <th>1073</th>\n",
       "      <td>2730.0</td>\n",
       "    </tr>\n",
       "    <tr>\n",
       "      <th>1074</th>\n",
       "      <td>33330.0</td>\n",
       "    </tr>\n",
       "    <tr>\n",
       "      <th>1075</th>\n",
       "      <td>2780.0</td>\n",
       "    </tr>\n",
       "    <tr>\n",
       "      <th>1077</th>\n",
       "      <td>2290.0</td>\n",
       "    </tr>\n",
       "    <tr>\n",
       "      <th>1080</th>\n",
       "      <td>1770.0</td>\n",
       "    </tr>\n",
       "  </tbody>\n",
       "</table>\n",
       "<p>484 rows × 1 columns</p>\n",
       "</div>"
      ],
      "text/plain": [
       "      claim_amount\n",
       "1           2980.0\n",
       "3           1950.0\n",
       "7           2240.0\n",
       "9          36810.0\n",
       "10          1730.0\n",
       "...            ...\n",
       "1073        2730.0\n",
       "1074       33330.0\n",
       "1075        2780.0\n",
       "1077        2290.0\n",
       "1080        1770.0\n",
       "\n",
       "[484 rows x 1 columns]"
      ]
     },
     "execution_count": 62,
     "metadata": {},
     "output_type": "execute_result"
    }
   ],
   "source": [
    "Cust_claims[Cust_claims.claim_year==2018][['claim_amount']]"
   ]
  },
  {
   "cell_type": "code",
   "execution_count": 63,
   "id": "43971e33",
   "metadata": {},
   "outputs": [],
   "source": [
    "current_year_claim=Cust_claims.loc[Cust_claims.claim_year == 2018][\"claim_amount\"]\n",
    "claim_year_2017=Cust_claims.loc[Cust_claims.claim_year == 2017][\"claim_amount\"]"
   ]
  },
  {
   "cell_type": "code",
   "execution_count": 64,
   "id": "7ab3837d",
   "metadata": {},
   "outputs": [
    {
     "data": {
      "text/plain": [
       "1        2980.0\n",
       "3        1950.0\n",
       "7        2240.0\n",
       "9       36810.0\n",
       "10       1730.0\n",
       "         ...   \n",
       "1073     2730.0\n",
       "1074    33330.0\n",
       "1075     2780.0\n",
       "1077     2290.0\n",
       "1080     1770.0\n",
       "Name: claim_amount, Length: 484, dtype: float64"
      ]
     },
     "execution_count": 64,
     "metadata": {},
     "output_type": "execute_result"
    }
   ],
   "source": [
    "current_year_claim"
   ]
  },
  {
   "cell_type": "code",
   "execution_count": 65,
   "id": "bd76840b",
   "metadata": {},
   "outputs": [
    {
     "data": {
      "text/plain": [
       "0        2980.0\n",
       "5        1440.0\n",
       "13       2748.5\n",
       "15      16690.0\n",
       "21      17800.0\n",
       "         ...   \n",
       "1079     2173.5\n",
       "1081     2800.0\n",
       "1082    33080.0\n",
       "1083     2840.0\n",
       "1084     1490.0\n",
       "Name: claim_amount, Length: 594, dtype: float64"
      ]
     },
     "execution_count": 65,
     "metadata": {},
     "output_type": "execute_result"
    }
   ],
   "source": [
    "claim_year_2017"
   ]
  },
  {
   "cell_type": "code",
   "execution_count": 66,
   "id": "ebc03f13",
   "metadata": {},
   "outputs": [
    {
     "name": "stdout",
     "output_type": "stream",
     "text": [
      "fiscal average of current  12766\n",
      "fiscal average of year 2016-2017  12286\n"
     ]
    }
   ],
   "source": [
    "print(\"fiscal average of current \" , round(current_year_claim.mean()))\n",
    "print(\"fiscal average of year 2016-2017 \",round(claim_year_2017.mean()))"
   ]
  },
  {
   "cell_type": "markdown",
   "id": "4b0ec1c7",
   "metadata": {},
   "source": [
    "### These are independent data set. thus, we will perform the independent T-Test"
   ]
  },
  {
   "cell_type": "code",
   "execution_count": 67,
   "id": "9a80c020",
   "metadata": {},
   "outputs": [
    {
     "data": {
      "text/plain": [
       "TtestResult(statistic=0.5870950089734058, pvalue=0.5572630625953376, df=1076.0)"
      ]
     },
     "execution_count": 67,
     "metadata": {},
     "output_type": "execute_result"
    }
   ],
   "source": [
    "check_stats=stats.ttest_ind(current_year_claim,claim_year_2017)\n",
    "check_stats"
   ]
  },
  {
   "cell_type": "code",
   "execution_count": 68,
   "id": "16087168",
   "metadata": {},
   "outputs": [
    {
     "name": "stdout",
     "output_type": "stream",
     "text": [
      "We fail to reject null hypothesis\n"
     ]
    }
   ],
   "source": [
    "p=check_stats.pvalue\n",
    "if(p<0.05):\n",
    "    print('We reject null hypothesis')\n",
    "else:\n",
    "    print('We fail to reject null hypothesis')"
   ]
  },
  {
   "cell_type": "markdown",
   "id": "8744c8e4",
   "metadata": {},
   "source": [
    "#### Thus , There is no significat increase in claim amount in current year as compared to 2016-17."
   ]
  },
  {
   "cell_type": "markdown",
   "id": "803df77c",
   "metadata": {},
   "source": [
    "#### 19. Is there any difference between age groups and insurance claims?"
   ]
  },
  {
   "cell_type": "markdown",
   "id": "55fea030",
   "metadata": {},
   "source": [
    "#### Here we will perform Ftest ANOVA"
   ]
  },
  {
   "cell_type": "code",
   "execution_count": 69,
   "id": "b9bfb6f9",
   "metadata": {},
   "outputs": [
    {
     "name": "stdout",
     "output_type": "stream",
     "text": [
      "The f-value is 0.7257860470318822 and the p value is 0.39446858447695\n",
      "We fail to reject null hypothesis\n"
     ]
    }
   ],
   "source": [
    "age_group_1 = Cust_claims['total_policy_claims'].loc[Cust_claims['AgeGroup']==\"Youth\"]\n",
    "age_group_2 = Cust_claims['total_policy_claims'].loc[Cust_claims['AgeGroup']==\"Adult\"]\n",
    "# Perfrom the Anova\n",
    "anova = stats.f_oneway(age_group_1,age_group_2)\n",
    "# Statistic :  F Value\n",
    "f = anova.statistic\n",
    "p = anova.pvalue\n",
    "print(\"The f-value is {} and the p value is {}\".format(f,p))\n",
    "if(p<0.05):\n",
    "    print('We reject null hypothesis')\n",
    "else:\n",
    "    print('We fail to reject null hypothesis')"
   ]
  },
  {
   "cell_type": "markdown",
   "id": "6b6534c3",
   "metadata": {},
   "source": [
    "#### Q 20. Is there any relationship between total number of policy claims and the claimed amount?"
   ]
  },
  {
   "cell_type": "code",
   "execution_count": 71,
   "id": "ed270225",
   "metadata": {},
   "outputs": [
    {
     "data": {
      "text/plain": [
       "0       1.0\n",
       "1       3.0\n",
       "3       6.0\n",
       "5       1.0\n",
       "7       2.0\n",
       "       ... \n",
       "1080    1.0\n",
       "1081    1.0\n",
       "1082    2.0\n",
       "1083    4.0\n",
       "1084    1.0\n",
       "Name: total_policy_claims, Length: 1078, dtype: float64"
      ]
     },
     "execution_count": 71,
     "metadata": {},
     "output_type": "execute_result"
    }
   ],
   "source": [
    "Cust_claims.total_policy_claims"
   ]
  },
  {
   "cell_type": "code",
   "execution_count": 72,
   "id": "d9f22dbb",
   "metadata": {},
   "outputs": [
    {
     "data": {
      "text/plain": [
       "0        2980.0\n",
       "1        2980.0\n",
       "3        1950.0\n",
       "5        1440.0\n",
       "7        2240.0\n",
       "         ...   \n",
       "1080     1770.0\n",
       "1081     2800.0\n",
       "1082    33080.0\n",
       "1083     2840.0\n",
       "1084     1490.0\n",
       "Name: claim_amount, Length: 1078, dtype: float64"
      ]
     },
     "execution_count": 72,
     "metadata": {},
     "output_type": "execute_result"
    }
   ],
   "source": [
    "Cust_claims.claim_amount"
   ]
  },
  {
   "cell_type": "code",
   "execution_count": 73,
   "id": "e500ea27",
   "metadata": {},
   "outputs": [],
   "source": [
    "Cust_claims['total_policy_claims'] = pd.to_numeric(Cust_claims['total_policy_claims'], errors='coerce')\n",
    "Cust_claims['claim_amount'] = pd.to_numeric(Cust_claims['claim_amount'].replace('[\\$,]', '', regex=True), errors='coerce')"
   ]
  },
  {
   "cell_type": "code",
   "execution_count": 74,
   "id": "5fd004af",
   "metadata": {},
   "outputs": [],
   "source": [
    "Cust_claims.dropna(subset=['total_policy_claims', 'claim_amount'], inplace=True)"
   ]
  },
  {
   "cell_type": "code",
   "execution_count": 75,
   "id": "d636d202",
   "metadata": {},
   "outputs": [
    {
     "name": "stdout",
     "output_type": "stream",
     "text": [
      "Pearson correlation coefficient: -0.02239272073209991\n",
      "p-value: 0.4626700742271313\n"
     ]
    }
   ],
   "source": [
    "corr, p_value = stats.pearsonr(Cust_claims['total_policy_claims'], Cust_claims['claim_amount'])\n",
    "print(\"Pearson correlation coefficient:\", corr)\n",
    "print(\"p-value:\", p_value)"
   ]
  },
  {
   "cell_type": "markdown",
   "id": "f1bffd9d",
   "metadata": {},
   "source": [
    "##### Based on ANOVA Test results we can observe that the p-Value is higher than the decided p-Value of 0.05. So we accept the null hypothesis. Thus, we can say that there is no difference in average claim amount for total number of claims and hence there is no relationship"
   ]
  },
  {
   "cell_type": "code",
   "execution_count": null,
   "id": "e68685d7",
   "metadata": {},
   "outputs": [],
   "source": []
  }
 ],
 "metadata": {
  "kernelspec": {
   "display_name": "Python 3 (ipykernel)",
   "language": "python",
   "name": "python3"
  },
  "language_info": {
   "codemirror_mode": {
    "name": "ipython",
    "version": 3
   },
   "file_extension": ".py",
   "mimetype": "text/x-python",
   "name": "python",
   "nbconvert_exporter": "python",
   "pygments_lexer": "ipython3",
   "version": "3.11.5"
  }
 },
 "nbformat": 4,
 "nbformat_minor": 5
}
